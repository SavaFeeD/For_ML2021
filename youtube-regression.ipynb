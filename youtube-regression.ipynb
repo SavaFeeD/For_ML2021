{
 "cells": [
  {
   "cell_type": "code",
   "execution_count": 1,
   "metadata": {
    "_cell_guid": "b1076dfc-b9ad-4769-8c92-a6c4dae69d19",
    "_uuid": "8f2839f25d086af736a60e9eeb907d3b93b6e0e5",
    "execution": {
     "iopub.execute_input": "2021-04-02T12:16:16.360222Z",
     "iopub.status.busy": "2021-04-02T12:16:16.359516Z",
     "iopub.status.idle": "2021-04-02T12:16:18.337545Z",
     "shell.execute_reply": "2021-04-02T12:16:18.336667Z"
    },
    "papermill": {
     "duration": 2.015904,
     "end_time": "2021-04-02T12:16:18.337764",
     "exception": false,
     "start_time": "2021-04-02T12:16:16.321860",
     "status": "completed"
    },
    "tags": []
   },
   "outputs": [
    {
     "name": "stdout",
     "output_type": "stream",
     "text": [
      "/kaggle/input/most-liked-comments-on-youtube/youtube_dataset.csv\n"
     ]
    }
   ],
   "source": [
    "import numpy as np\n",
    "import pandas as pd\n",
    "import matplotlib.pyplot as plt\n",
    "from nltk.corpus import stopwords\n",
    "from math import log\n",
    "\n",
    "import os\n",
    "for dirname, _, filenames in os.walk('/kaggle/input'):\n",
    "    for filename in filenames:\n",
    "        print(os.path.join(dirname, filename))"
   ]
  },
  {
   "cell_type": "code",
   "execution_count": 2,
   "metadata": {
    "execution": {
     "iopub.execute_input": "2021-04-02T12:16:18.409807Z",
     "iopub.status.busy": "2021-04-02T12:16:18.409102Z",
     "iopub.status.idle": "2021-04-02T12:16:18.633456Z",
     "shell.execute_reply": "2021-04-02T12:16:18.632813Z"
    },
    "papermill": {
     "duration": 0.265048,
     "end_time": "2021-04-02T12:16:18.633602",
     "exception": false,
     "start_time": "2021-04-02T12:16:18.368554",
     "status": "completed"
    },
    "tags": []
   },
   "outputs": [
    {
     "data": {
      "text/html": [
       "<div>\n",
       "<style scoped>\n",
       "    .dataframe tbody tr th:only-of-type {\n",
       "        vertical-align: middle;\n",
       "    }\n",
       "\n",
       "    .dataframe tbody tr th {\n",
       "        vertical-align: top;\n",
       "    }\n",
       "\n",
       "    .dataframe thead th {\n",
       "        text-align: right;\n",
       "    }\n",
       "</style>\n",
       "<table border=\"1\" class=\"dataframe\">\n",
       "  <thead>\n",
       "    <tr style=\"text-align: right;\">\n",
       "      <th></th>\n",
       "      <th>Video Name</th>\n",
       "      <th>Channel Name</th>\n",
       "      <th>Comment Id</th>\n",
       "      <th>User Name</th>\n",
       "      <th>Comment</th>\n",
       "      <th>Date</th>\n",
       "      <th>Likes</th>\n",
       "    </tr>\n",
       "  </thead>\n",
       "  <tbody>\n",
       "    <tr>\n",
       "      <th>0</th>\n",
       "      <td>Luis Fonsi - Despacito ft. Daddy Yankee</td>\n",
       "      <td>LuisFonsiVEVO</td>\n",
       "      <td>UgwV0tapZzaFxdYm1z14AaABAg</td>\n",
       "      <td>GAMIT yuvraj</td>\n",
       "      <td>The people who liked this comment is officiall...</td>\n",
       "      <td>2020-08-10T20:00:43Z</td>\n",
       "      <td>98280</td>\n",
       "    </tr>\n",
       "    <tr>\n",
       "      <th>1</th>\n",
       "      <td>Luis Fonsi - Despacito ft. Daddy Yankee</td>\n",
       "      <td>LuisFonsiVEVO</td>\n",
       "      <td>UgyiccblP3A16aixpit4AaABAg</td>\n",
       "      <td>MrCrazy</td>\n",
       "      <td>- Wait, it's 7B views\\n- Always has been</td>\n",
       "      <td>2020-09-07T20:52:36Z</td>\n",
       "      <td>773</td>\n",
       "    </tr>\n",
       "    <tr>\n",
       "      <th>2</th>\n",
       "      <td>Luis Fonsi - Despacito ft. Daddy Yankee</td>\n",
       "      <td>LuisFonsiVEVO</td>\n",
       "      <td>Ugx7THW3EBNJlhJuwSB4AaABAg</td>\n",
       "      <td>60K Subs With 1 Video Challenge</td>\n",
       "      <td>*Teacher: What is the population of the Earth?...</td>\n",
       "      <td>2019-11-21T03:23:32Z</td>\n",
       "      <td>356081</td>\n",
       "    </tr>\n",
       "    <tr>\n",
       "      <th>3</th>\n",
       "      <td>Luis Fonsi - Despacito ft. Daddy Yankee</td>\n",
       "      <td>LuisFonsiVEVO</td>\n",
       "      <td>UgzXUsI6yrRjTKNASf94AaABAg</td>\n",
       "      <td>Srivathsa D</td>\n",
       "      <td>Let's be honest this wasn't your recommendatio...</td>\n",
       "      <td>2020-09-09T03:41:34Z</td>\n",
       "      <td>13</td>\n",
       "    </tr>\n",
       "    <tr>\n",
       "      <th>4</th>\n",
       "      <td>Luis Fonsi - Despacito ft. Daddy Yankee</td>\n",
       "      <td>LuisFonsiVEVO</td>\n",
       "      <td>UgxCu6mywg6uqjueHQ14AaABAg</td>\n",
       "      <td>1k Subscribers Challenge Without Any Video</td>\n",
       "      <td>Types Of People:\\n10% Enjoying Song \\n90% Chec...</td>\n",
       "      <td>2020-09-08T09:53:24Z</td>\n",
       "      <td>122</td>\n",
       "    </tr>\n",
       "    <tr>\n",
       "      <th>...</th>\n",
       "      <td>...</td>\n",
       "      <td>...</td>\n",
       "      <td>...</td>\n",
       "      <td>...</td>\n",
       "      <td>...</td>\n",
       "      <td>...</td>\n",
       "      <td>...</td>\n",
       "    </tr>\n",
       "    <tr>\n",
       "      <th>19295</th>\n",
       "      <td>ZAYN - PILLOWTALK (Official Music Video)</td>\n",
       "      <td>ZaynVEVO</td>\n",
       "      <td>UgxqlnG8nQ36eDoXKbJ4AaABAg</td>\n",
       "      <td>KineZ</td>\n",
       "      <td>Claim your “before 1 billion” certificate here</td>\n",
       "      <td>2020-07-28T18:39:38Z</td>\n",
       "      <td>5087</td>\n",
       "    </tr>\n",
       "    <tr>\n",
       "      <th>19296</th>\n",
       "      <td>ZAYN - PILLOWTALK (Official Music Video)</td>\n",
       "      <td>ZaynVEVO</td>\n",
       "      <td>UgwZsgM-0pn9tiFxmOh4AaABAg</td>\n",
       "      <td>varun raj</td>\n",
       "      <td>This means that you are before 1 billion views.</td>\n",
       "      <td>2020-09-09T11:41:30Z</td>\n",
       "      <td>6</td>\n",
       "    </tr>\n",
       "    <tr>\n",
       "      <th>19297</th>\n",
       "      <td>ZAYN - PILLOWTALK (Official Music Video)</td>\n",
       "      <td>ZaynVEVO</td>\n",
       "      <td>UgxeBmhoyhSILM0HPux4AaABAg</td>\n",
       "      <td>hey harry</td>\n",
       "      <td>We won't have school till 2021 \\nMay God help ...</td>\n",
       "      <td>2020-09-09T10:03:04Z</td>\n",
       "      <td>5</td>\n",
       "    </tr>\n",
       "    <tr>\n",
       "      <th>19298</th>\n",
       "      <td>ZAYN - PILLOWTALK (Official Music Video)</td>\n",
       "      <td>ZaynVEVO</td>\n",
       "      <td>Ugy6KVBjdz7Rj2yxTER4AaABAg</td>\n",
       "      <td>Jannat EXO-L</td>\n",
       "      <td>Literally saw this song from 1M -&gt; 996M</td>\n",
       "      <td>2020-09-08T19:41:18Z</td>\n",
       "      <td>4</td>\n",
       "    </tr>\n",
       "    <tr>\n",
       "      <th>19299</th>\n",
       "      <td>ZAYN - PILLOWTALK (Official Music Video)</td>\n",
       "      <td>ZaynVEVO</td>\n",
       "      <td>Ugx6zGINIY_96bZzu0x4AaABAg</td>\n",
       "      <td>Paola Dávila</td>\n",
       "      <td>Podría escuchar esta canción la misma cantidad...</td>\n",
       "      <td>2020-09-09T06:47:03Z</td>\n",
       "      <td>3</td>\n",
       "    </tr>\n",
       "  </tbody>\n",
       "</table>\n",
       "<p>19300 rows × 7 columns</p>\n",
       "</div>"
      ],
      "text/plain": [
       "                                     Video Name   Channel Name  \\\n",
       "0       Luis Fonsi - Despacito ft. Daddy Yankee  LuisFonsiVEVO   \n",
       "1       Luis Fonsi - Despacito ft. Daddy Yankee  LuisFonsiVEVO   \n",
       "2       Luis Fonsi - Despacito ft. Daddy Yankee  LuisFonsiVEVO   \n",
       "3       Luis Fonsi - Despacito ft. Daddy Yankee  LuisFonsiVEVO   \n",
       "4       Luis Fonsi - Despacito ft. Daddy Yankee  LuisFonsiVEVO   \n",
       "...                                         ...            ...   \n",
       "19295  ZAYN - PILLOWTALK (Official Music Video)       ZaynVEVO   \n",
       "19296  ZAYN - PILLOWTALK (Official Music Video)       ZaynVEVO   \n",
       "19297  ZAYN - PILLOWTALK (Official Music Video)       ZaynVEVO   \n",
       "19298  ZAYN - PILLOWTALK (Official Music Video)       ZaynVEVO   \n",
       "19299  ZAYN - PILLOWTALK (Official Music Video)       ZaynVEVO   \n",
       "\n",
       "                       Comment Id                                   User Name  \\\n",
       "0      UgwV0tapZzaFxdYm1z14AaABAg                                GAMIT yuvraj   \n",
       "1      UgyiccblP3A16aixpit4AaABAg                                     MrCrazy   \n",
       "2      Ugx7THW3EBNJlhJuwSB4AaABAg             60K Subs With 1 Video Challenge   \n",
       "3      UgzXUsI6yrRjTKNASf94AaABAg                                 Srivathsa D   \n",
       "4      UgxCu6mywg6uqjueHQ14AaABAg  1k Subscribers Challenge Without Any Video   \n",
       "...                           ...                                         ...   \n",
       "19295  UgxqlnG8nQ36eDoXKbJ4AaABAg                                       KineZ   \n",
       "19296  UgwZsgM-0pn9tiFxmOh4AaABAg                                   varun raj   \n",
       "19297  UgxeBmhoyhSILM0HPux4AaABAg                                   hey harry   \n",
       "19298  Ugy6KVBjdz7Rj2yxTER4AaABAg                                Jannat EXO-L   \n",
       "19299  Ugx6zGINIY_96bZzu0x4AaABAg                                Paola Dávila   \n",
       "\n",
       "                                                 Comment  \\\n",
       "0      The people who liked this comment is officiall...   \n",
       "1               - Wait, it's 7B views\\n- Always has been   \n",
       "2      *Teacher: What is the population of the Earth?...   \n",
       "3      Let's be honest this wasn't your recommendatio...   \n",
       "4      Types Of People:\\n10% Enjoying Song \\n90% Chec...   \n",
       "...                                                  ...   \n",
       "19295     Claim your “before 1 billion” certificate here   \n",
       "19296    This means that you are before 1 billion views.   \n",
       "19297  We won't have school till 2021 \\nMay God help ...   \n",
       "19298            Literally saw this song from 1M -> 996M   \n",
       "19299  Podría escuchar esta canción la misma cantidad...   \n",
       "\n",
       "                       Date   Likes  \n",
       "0      2020-08-10T20:00:43Z   98280  \n",
       "1      2020-09-07T20:52:36Z     773  \n",
       "2      2019-11-21T03:23:32Z  356081  \n",
       "3      2020-09-09T03:41:34Z      13  \n",
       "4      2020-09-08T09:53:24Z     122  \n",
       "...                     ...     ...  \n",
       "19295  2020-07-28T18:39:38Z    5087  \n",
       "19296  2020-09-09T11:41:30Z       6  \n",
       "19297  2020-09-09T10:03:04Z       5  \n",
       "19298  2020-09-08T19:41:18Z       4  \n",
       "19299  2020-09-09T06:47:03Z       3  \n",
       "\n",
       "[19300 rows x 7 columns]"
      ]
     },
     "execution_count": 2,
     "metadata": {},
     "output_type": "execute_result"
    }
   ],
   "source": [
    "df = pd.read_csv('../input/most-liked-comments-on-youtube/youtube_dataset.csv')\n",
    "df"
   ]
  },
  {
   "cell_type": "code",
   "execution_count": 3,
   "metadata": {
    "execution": {
     "iopub.execute_input": "2021-04-02T12:16:18.704368Z",
     "iopub.status.busy": "2021-04-02T12:16:18.703712Z",
     "iopub.status.idle": "2021-04-02T12:16:30.039415Z",
     "shell.execute_reply": "2021-04-02T12:16:30.038821Z"
    },
    "papermill": {
     "duration": 11.373198,
     "end_time": "2021-04-02T12:16:30.039580",
     "exception": false,
     "start_time": "2021-04-02T12:16:18.666382",
     "status": "completed"
    },
    "tags": []
   },
   "outputs": [
    {
     "name": "stdout",
     "output_type": "stream",
     "text": [
      "Collecting langdetect\r\n",
      "  Downloading langdetect-1.0.8.tar.gz (981 kB)\r\n",
      "\u001b[K     |████████████████████████████████| 981 kB 896 kB/s \r\n",
      "\u001b[?25hRequirement already satisfied: six in /opt/conda/lib/python3.7/site-packages (from langdetect) (1.15.0)\r\n",
      "Building wheels for collected packages: langdetect\r\n",
      "  Building wheel for langdetect (setup.py) ... \u001b[?25l-\b \b\\\b \b|\b \b/\b \bdone\r\n",
      "\u001b[?25h  Created wheel for langdetect: filename=langdetect-1.0.8-py3-none-any.whl size=993190 sha256=0a12e46134edc7cc2c0593c6cb44be90abdb465ecf3ce74ea80b03b4ee7984a5\r\n",
      "  Stored in directory: /root/.cache/pip/wheels/59/f6/9d/85068904dba861c0b9af74e286265a08da438748ee5ae56067\r\n",
      "Successfully built langdetect\r\n",
      "Installing collected packages: langdetect\r\n",
      "Successfully installed langdetect-1.0.8\r\n"
     ]
    }
   ],
   "source": [
    "! pip install langdetect"
   ]
  },
  {
   "cell_type": "code",
   "execution_count": 4,
   "metadata": {
    "execution": {
     "iopub.execute_input": "2021-04-02T12:16:30.120832Z",
     "iopub.status.busy": "2021-04-02T12:16:30.120090Z",
     "iopub.status.idle": "2021-04-02T12:16:30.133191Z",
     "shell.execute_reply": "2021-04-02T12:16:30.132618Z"
    },
    "papermill": {
     "duration": 0.05525,
     "end_time": "2021-04-02T12:16:30.133332",
     "exception": false,
     "start_time": "2021-04-02T12:16:30.078082",
     "status": "completed"
    },
    "tags": []
   },
   "outputs": [],
   "source": [
    "from langdetect import detect"
   ]
  },
  {
   "cell_type": "code",
   "execution_count": 5,
   "metadata": {
    "execution": {
     "iopub.execute_input": "2021-04-02T12:16:30.219772Z",
     "iopub.status.busy": "2021-04-02T12:16:30.214382Z",
     "iopub.status.idle": "2021-04-02T12:19:35.023222Z",
     "shell.execute_reply": "2021-04-02T12:19:35.023875Z"
    },
    "papermill": {
     "duration": 184.853107,
     "end_time": "2021-04-02T12:19:35.024114",
     "exception": false,
     "start_time": "2021-04-02T12:16:30.171007",
     "status": "completed"
    },
    "tags": []
   },
   "outputs": [],
   "source": [
    "arr_lang = []\n",
    "\n",
    "for comment in df['Comment'].values:\n",
    "    try:\n",
    "        lang = detect(comment)\n",
    "    except:\n",
    "        lang = 'elf'\n",
    "    arr_lang.append(lang)"
   ]
  },
  {
   "cell_type": "code",
   "execution_count": 6,
   "metadata": {
    "execution": {
     "iopub.execute_input": "2021-04-02T12:19:35.117005Z",
     "iopub.status.busy": "2021-04-02T12:19:35.115899Z",
     "iopub.status.idle": "2021-04-02T12:19:35.119835Z",
     "shell.execute_reply": "2021-04-02T12:19:35.120320Z"
    },
    "papermill": {
     "duration": 0.058777,
     "end_time": "2021-04-02T12:19:35.120505",
     "exception": false,
     "start_time": "2021-04-02T12:19:35.061728",
     "status": "completed"
    },
    "tags": []
   },
   "outputs": [
    {
     "data": {
      "text/html": [
       "<div>\n",
       "<style scoped>\n",
       "    .dataframe tbody tr th:only-of-type {\n",
       "        vertical-align: middle;\n",
       "    }\n",
       "\n",
       "    .dataframe tbody tr th {\n",
       "        vertical-align: top;\n",
       "    }\n",
       "\n",
       "    .dataframe thead th {\n",
       "        text-align: right;\n",
       "    }\n",
       "</style>\n",
       "<table border=\"1\" class=\"dataframe\">\n",
       "  <thead>\n",
       "    <tr style=\"text-align: right;\">\n",
       "      <th></th>\n",
       "      <th>Video Name</th>\n",
       "      <th>Channel Name</th>\n",
       "      <th>Comment Id</th>\n",
       "      <th>User Name</th>\n",
       "      <th>Comment</th>\n",
       "      <th>Date</th>\n",
       "      <th>Likes</th>\n",
       "      <th>lang</th>\n",
       "    </tr>\n",
       "  </thead>\n",
       "  <tbody>\n",
       "    <tr>\n",
       "      <th>0</th>\n",
       "      <td>Luis Fonsi - Despacito ft. Daddy Yankee</td>\n",
       "      <td>LuisFonsiVEVO</td>\n",
       "      <td>UgwV0tapZzaFxdYm1z14AaABAg</td>\n",
       "      <td>GAMIT yuvraj</td>\n",
       "      <td>The people who liked this comment is officiall...</td>\n",
       "      <td>2020-08-10T20:00:43Z</td>\n",
       "      <td>98280</td>\n",
       "      <td>en</td>\n",
       "    </tr>\n",
       "    <tr>\n",
       "      <th>1</th>\n",
       "      <td>Luis Fonsi - Despacito ft. Daddy Yankee</td>\n",
       "      <td>LuisFonsiVEVO</td>\n",
       "      <td>UgyiccblP3A16aixpit4AaABAg</td>\n",
       "      <td>MrCrazy</td>\n",
       "      <td>- Wait, it's 7B views\\n- Always has been</td>\n",
       "      <td>2020-09-07T20:52:36Z</td>\n",
       "      <td>773</td>\n",
       "      <td>en</td>\n",
       "    </tr>\n",
       "    <tr>\n",
       "      <th>2</th>\n",
       "      <td>Luis Fonsi - Despacito ft. Daddy Yankee</td>\n",
       "      <td>LuisFonsiVEVO</td>\n",
       "      <td>Ugx7THW3EBNJlhJuwSB4AaABAg</td>\n",
       "      <td>60K Subs With 1 Video Challenge</td>\n",
       "      <td>*Teacher: What is the population of the Earth?...</td>\n",
       "      <td>2019-11-21T03:23:32Z</td>\n",
       "      <td>356081</td>\n",
       "      <td>en</td>\n",
       "    </tr>\n",
       "    <tr>\n",
       "      <th>3</th>\n",
       "      <td>Luis Fonsi - Despacito ft. Daddy Yankee</td>\n",
       "      <td>LuisFonsiVEVO</td>\n",
       "      <td>UgzXUsI6yrRjTKNASf94AaABAg</td>\n",
       "      <td>Srivathsa D</td>\n",
       "      <td>Let's be honest this wasn't your recommendatio...</td>\n",
       "      <td>2020-09-09T03:41:34Z</td>\n",
       "      <td>13</td>\n",
       "      <td>en</td>\n",
       "    </tr>\n",
       "    <tr>\n",
       "      <th>4</th>\n",
       "      <td>Luis Fonsi - Despacito ft. Daddy Yankee</td>\n",
       "      <td>LuisFonsiVEVO</td>\n",
       "      <td>UgxCu6mywg6uqjueHQ14AaABAg</td>\n",
       "      <td>1k Subscribers Challenge Without Any Video</td>\n",
       "      <td>Types Of People:\\n10% Enjoying Song \\n90% Chec...</td>\n",
       "      <td>2020-09-08T09:53:24Z</td>\n",
       "      <td>122</td>\n",
       "      <td>en</td>\n",
       "    </tr>\n",
       "  </tbody>\n",
       "</table>\n",
       "</div>"
      ],
      "text/plain": [
       "                                Video Name   Channel Name  \\\n",
       "0  Luis Fonsi - Despacito ft. Daddy Yankee  LuisFonsiVEVO   \n",
       "1  Luis Fonsi - Despacito ft. Daddy Yankee  LuisFonsiVEVO   \n",
       "2  Luis Fonsi - Despacito ft. Daddy Yankee  LuisFonsiVEVO   \n",
       "3  Luis Fonsi - Despacito ft. Daddy Yankee  LuisFonsiVEVO   \n",
       "4  Luis Fonsi - Despacito ft. Daddy Yankee  LuisFonsiVEVO   \n",
       "\n",
       "                   Comment Id                                   User Name  \\\n",
       "0  UgwV0tapZzaFxdYm1z14AaABAg                                GAMIT yuvraj   \n",
       "1  UgyiccblP3A16aixpit4AaABAg                                     MrCrazy   \n",
       "2  Ugx7THW3EBNJlhJuwSB4AaABAg             60K Subs With 1 Video Challenge   \n",
       "3  UgzXUsI6yrRjTKNASf94AaABAg                                 Srivathsa D   \n",
       "4  UgxCu6mywg6uqjueHQ14AaABAg  1k Subscribers Challenge Without Any Video   \n",
       "\n",
       "                                             Comment                  Date  \\\n",
       "0  The people who liked this comment is officiall...  2020-08-10T20:00:43Z   \n",
       "1           - Wait, it's 7B views\\n- Always has been  2020-09-07T20:52:36Z   \n",
       "2  *Teacher: What is the population of the Earth?...  2019-11-21T03:23:32Z   \n",
       "3  Let's be honest this wasn't your recommendatio...  2020-09-09T03:41:34Z   \n",
       "4  Types Of People:\\n10% Enjoying Song \\n90% Chec...  2020-09-08T09:53:24Z   \n",
       "\n",
       "    Likes lang  \n",
       "0   98280   en  \n",
       "1     773   en  \n",
       "2  356081   en  \n",
       "3      13   en  \n",
       "4     122   en  "
      ]
     },
     "execution_count": 6,
     "metadata": {},
     "output_type": "execute_result"
    }
   ],
   "source": [
    "df['lang'] = arr_lang\n",
    "df.head()"
   ]
  },
  {
   "cell_type": "code",
   "execution_count": 7,
   "metadata": {
    "execution": {
     "iopub.execute_input": "2021-04-02T12:19:35.203276Z",
     "iopub.status.busy": "2021-04-02T12:19:35.202632Z",
     "iopub.status.idle": "2021-04-02T12:19:35.224926Z",
     "shell.execute_reply": "2021-04-02T12:19:35.225420Z"
    },
    "papermill": {
     "duration": 0.067221,
     "end_time": "2021-04-02T12:19:35.225596",
     "exception": false,
     "start_time": "2021-04-02T12:19:35.158375",
     "status": "completed"
    },
    "tags": []
   },
   "outputs": [
    {
     "data": {
      "text/html": [
       "<div>\n",
       "<style scoped>\n",
       "    .dataframe tbody tr th:only-of-type {\n",
       "        vertical-align: middle;\n",
       "    }\n",
       "\n",
       "    .dataframe tbody tr th {\n",
       "        vertical-align: top;\n",
       "    }\n",
       "\n",
       "    .dataframe thead th {\n",
       "        text-align: right;\n",
       "    }\n",
       "</style>\n",
       "<table border=\"1\" class=\"dataframe\">\n",
       "  <thead>\n",
       "    <tr style=\"text-align: right;\">\n",
       "      <th></th>\n",
       "      <th>Video Name</th>\n",
       "      <th>Channel Name</th>\n",
       "      <th>Comment Id</th>\n",
       "      <th>User Name</th>\n",
       "      <th>Comment</th>\n",
       "      <th>Date</th>\n",
       "      <th>Likes</th>\n",
       "      <th>lang</th>\n",
       "    </tr>\n",
       "  </thead>\n",
       "  <tbody>\n",
       "    <tr>\n",
       "      <th>0</th>\n",
       "      <td>Shawn Mendes, Camila Cabello - Señorita</td>\n",
       "      <td>ShawnMendesVEVO</td>\n",
       "      <td>UgwpZ5rb48Q5UJGuJ9F4AaABAg</td>\n",
       "      <td>Pro Gamer</td>\n",
       "      <td>Don't worry your not the only one listening th...</td>\n",
       "      <td>2020-09-06T16:37:11Z</td>\n",
       "      <td>80</td>\n",
       "      <td>en</td>\n",
       "    </tr>\n",
       "    <tr>\n",
       "      <th>1</th>\n",
       "      <td>22. Hasta el Amanecer - Nicky Jam | Video Oficial</td>\n",
       "      <td>NickyJamTV</td>\n",
       "      <td>UgzIH5WZFTiywFVR9lR4AaABAg</td>\n",
       "      <td>Noah Vincenzo</td>\n",
       "      <td>السلام عليكم السلام و رحمة للعالمين. . . 😂😂😂😂😂</td>\n",
       "      <td>2020-08-27T12:33:09Z</td>\n",
       "      <td>4</td>\n",
       "      <td>ar</td>\n",
       "    </tr>\n",
       "    <tr>\n",
       "      <th>2</th>\n",
       "      <td>David Guetta - Hey Mama (Official Video) ft Ni...</td>\n",
       "      <td>David Guetta</td>\n",
       "      <td>UgwRwhiW7U-Rmr3xBkR4AaABAg</td>\n",
       "      <td>Immortal Dragon</td>\n",
       "      <td>“I don’t cook, I don’t clean”\\n*My mom screami...</td>\n",
       "      <td>2020-09-09T04:11:52Z</td>\n",
       "      <td>0</td>\n",
       "      <td>en</td>\n",
       "    </tr>\n",
       "    <tr>\n",
       "      <th>3</th>\n",
       "      <td>Naughty Boy - La la la ft. Sam Smith (Official...</td>\n",
       "      <td>NaughtyBoyVEVO</td>\n",
       "      <td>Ugx-4R-oPbL-Toadywt4AaABAg</td>\n",
       "      <td>2listen</td>\n",
       "      <td>I'm covering my ears like a kid\\r\\nWhen your w...</td>\n",
       "      <td>2020-09-06T09:50:44Z</td>\n",
       "      <td>1</td>\n",
       "      <td>en</td>\n",
       "    </tr>\n",
       "    <tr>\n",
       "      <th>4</th>\n",
       "      <td>Jennifer Lopez - On The Floor ft. Pitbull</td>\n",
       "      <td>JenniferLopezVEVO</td>\n",
       "      <td>UgwiejUCtaSJZEtzxrR4AaABAg</td>\n",
       "      <td>100,000 subs with no video challenge</td>\n",
       "      <td>2011-\\nCorona: Beer\\nTrump: A reality show\\nKa...</td>\n",
       "      <td>2020-08-25T06:30:14Z</td>\n",
       "      <td>579</td>\n",
       "      <td>en</td>\n",
       "    </tr>\n",
       "  </tbody>\n",
       "</table>\n",
       "</div>"
      ],
      "text/plain": [
       "                                          Video Name       Channel Name  \\\n",
       "0            Shawn Mendes, Camila Cabello - Señorita    ShawnMendesVEVO   \n",
       "1  22. Hasta el Amanecer - Nicky Jam | Video Oficial         NickyJamTV   \n",
       "2  David Guetta - Hey Mama (Official Video) ft Ni...       David Guetta   \n",
       "3  Naughty Boy - La la la ft. Sam Smith (Official...     NaughtyBoyVEVO   \n",
       "4          Jennifer Lopez - On The Floor ft. Pitbull  JenniferLopezVEVO   \n",
       "\n",
       "                   Comment Id                             User Name  \\\n",
       "0  UgwpZ5rb48Q5UJGuJ9F4AaABAg                             Pro Gamer   \n",
       "1  UgzIH5WZFTiywFVR9lR4AaABAg                         Noah Vincenzo   \n",
       "2  UgwRwhiW7U-Rmr3xBkR4AaABAg                       Immortal Dragon   \n",
       "3  Ugx-4R-oPbL-Toadywt4AaABAg                               2listen   \n",
       "4  UgwiejUCtaSJZEtzxrR4AaABAg  100,000 subs with no video challenge   \n",
       "\n",
       "                                             Comment                  Date  \\\n",
       "0  Don't worry your not the only one listening th...  2020-09-06T16:37:11Z   \n",
       "1     السلام عليكم السلام و رحمة للعالمين. . . 😂😂😂😂😂  2020-08-27T12:33:09Z   \n",
       "2  “I don’t cook, I don’t clean”\\n*My mom screami...  2020-09-09T04:11:52Z   \n",
       "3  I'm covering my ears like a kid\\r\\nWhen your w...  2020-09-06T09:50:44Z   \n",
       "4  2011-\\nCorona: Beer\\nTrump: A reality show\\nKa...  2020-08-25T06:30:14Z   \n",
       "\n",
       "   Likes lang  \n",
       "0     80   en  \n",
       "1      4   ar  \n",
       "2      0   en  \n",
       "3      1   en  \n",
       "4    579   en  "
      ]
     },
     "execution_count": 7,
     "metadata": {},
     "output_type": "execute_result"
    }
   ],
   "source": [
    "df = df.sample(frac = 1)\n",
    "df.reset_index(drop=True, inplace=True)\n",
    "df.head()"
   ]
  },
  {
   "cell_type": "code",
   "execution_count": 8,
   "metadata": {
    "execution": {
     "iopub.execute_input": "2021-04-02T12:19:35.305025Z",
     "iopub.status.busy": "2021-04-02T12:19:35.304405Z",
     "iopub.status.idle": "2021-04-02T12:19:35.311198Z",
     "shell.execute_reply": "2021-04-02T12:19:35.310666Z"
    },
    "papermill": {
     "duration": 0.047479,
     "end_time": "2021-04-02T12:19:35.311336",
     "exception": false,
     "start_time": "2021-04-02T12:19:35.263857",
     "status": "completed"
    },
    "tags": []
   },
   "outputs": [],
   "source": [
    "def cleaner(x):\n",
    "    x = x.lower()\n",
    "    x = x.split(' ')\n",
    "    \n",
    "    for i, word in enumerate(x):\n",
    "        cword = []\n",
    "        for ch in word:\n",
    "            if ch.isalpha():\n",
    "                cword.append(ch)\n",
    "                \n",
    "        x[i] = ''.join(cword)\n",
    "    \n",
    "    x = [word for word in x if word != '' and not word in set(stopwords.words('english'))]\n",
    "    return x"
   ]
  },
  {
   "cell_type": "code",
   "execution_count": 9,
   "metadata": {
    "execution": {
     "iopub.execute_input": "2021-04-02T12:19:35.395812Z",
     "iopub.status.busy": "2021-04-02T12:19:35.395112Z",
     "iopub.status.idle": "2021-04-02T12:20:29.158275Z",
     "shell.execute_reply": "2021-04-02T12:20:29.158818Z"
    },
    "papermill": {
     "duration": 53.808881,
     "end_time": "2021-04-02T12:20:29.159014",
     "exception": false,
     "start_time": "2021-04-02T12:19:35.350133",
     "status": "completed"
    },
    "tags": []
   },
   "outputs": [],
   "source": [
    "df['Comment'] = df['Comment'].apply(cleaner)\n",
    "df['Comment'] = df['Comment'].apply(lambda x: ' '.join(x))"
   ]
  },
  {
   "cell_type": "code",
   "execution_count": 10,
   "metadata": {
    "execution": {
     "iopub.execute_input": "2021-04-02T12:20:29.240710Z",
     "iopub.status.busy": "2021-04-02T12:20:29.240050Z",
     "iopub.status.idle": "2021-04-02T12:20:29.266682Z",
     "shell.execute_reply": "2021-04-02T12:20:29.267308Z"
    },
    "papermill": {
     "duration": 0.069515,
     "end_time": "2021-04-02T12:20:29.267496",
     "exception": false,
     "start_time": "2021-04-02T12:20:29.197981",
     "status": "completed"
    },
    "tags": []
   },
   "outputs": [
    {
     "data": {
      "text/html": [
       "<div>\n",
       "<style scoped>\n",
       "    .dataframe tbody tr th:only-of-type {\n",
       "        vertical-align: middle;\n",
       "    }\n",
       "\n",
       "    .dataframe tbody tr th {\n",
       "        vertical-align: top;\n",
       "    }\n",
       "\n",
       "    .dataframe thead th {\n",
       "        text-align: right;\n",
       "    }\n",
       "</style>\n",
       "<table border=\"1\" class=\"dataframe\">\n",
       "  <thead>\n",
       "    <tr style=\"text-align: right;\">\n",
       "      <th></th>\n",
       "      <th>Video Name</th>\n",
       "      <th>Channel Name</th>\n",
       "      <th>Comment Id</th>\n",
       "      <th>User Name</th>\n",
       "      <th>Comment</th>\n",
       "      <th>Date</th>\n",
       "      <th>Likes</th>\n",
       "    </tr>\n",
       "  </thead>\n",
       "  <tbody>\n",
       "    <tr>\n",
       "      <th>0</th>\n",
       "      <td>Shawn Mendes, Camila Cabello - Señorita</td>\n",
       "      <td>ShawnMendesVEVO</td>\n",
       "      <td>UgwpZ5rb48Q5UJGuJ9F4AaABAg</td>\n",
       "      <td>Pro Gamer</td>\n",
       "      <td>dont worry one listening masterpiece</td>\n",
       "      <td>2020-09-06T16:37:11Z</td>\n",
       "      <td>80</td>\n",
       "    </tr>\n",
       "    <tr>\n",
       "      <th>1</th>\n",
       "      <td>David Guetta - Hey Mama (Official Video) ft Ni...</td>\n",
       "      <td>David Guetta</td>\n",
       "      <td>UgwRwhiW7U-Rmr3xBkR4AaABAg</td>\n",
       "      <td>Immortal Dragon</td>\n",
       "      <td>dont cook dont cleanmy mom screaming sibling k...</td>\n",
       "      <td>2020-09-09T04:11:52Z</td>\n",
       "      <td>0</td>\n",
       "    </tr>\n",
       "    <tr>\n",
       "      <th>2</th>\n",
       "      <td>Naughty Boy - La la la ft. Sam Smith (Official...</td>\n",
       "      <td>NaughtyBoyVEVO</td>\n",
       "      <td>Ugx-4R-oPbL-Toadywt4AaABAg</td>\n",
       "      <td>2listen</td>\n",
       "      <td>im covering ears like kidwhen words mean nothi...</td>\n",
       "      <td>2020-09-06T09:50:44Z</td>\n",
       "      <td>1</td>\n",
       "    </tr>\n",
       "    <tr>\n",
       "      <th>3</th>\n",
       "      <td>Jennifer Lopez - On The Floor ft. Pitbull</td>\n",
       "      <td>JenniferLopezVEVO</td>\n",
       "      <td>UgwiejUCtaSJZEtzxrR4AaABAg</td>\n",
       "      <td>100,000 subs with no video challenge</td>\n",
       "      <td>corona beertrump reality showkaren namefortnig...</td>\n",
       "      <td>2020-08-25T06:30:14Z</td>\n",
       "      <td>579</td>\n",
       "    </tr>\n",
       "    <tr>\n",
       "      <th>4</th>\n",
       "      <td>Luis Fonsi - Despacito ft. Daddy Yankee</td>\n",
       "      <td>LuisFonsiVEVO</td>\n",
       "      <td>UgwV0tapZzaFxdYm1z14AaABAg</td>\n",
       "      <td>GAMIT yuvraj</td>\n",
       "      <td>people liked comment officially b views</td>\n",
       "      <td>2020-08-10T20:00:43Z</td>\n",
       "      <td>98280</td>\n",
       "    </tr>\n",
       "    <tr>\n",
       "      <th>...</th>\n",
       "      <td>...</td>\n",
       "      <td>...</td>\n",
       "      <td>...</td>\n",
       "      <td>...</td>\n",
       "      <td>...</td>\n",
       "      <td>...</td>\n",
       "      <td>...</td>\n",
       "    </tr>\n",
       "    <tr>\n",
       "      <th>13320</th>\n",
       "      <td>OMI - Cheerleader (Felix Jaehn Remix) [Officia...</td>\n",
       "      <td>Ultra Music</td>\n",
       "      <td>UgyChg1bAC2yhTWmjcl4AaABAg</td>\n",
       "      <td>musiclova2112</td>\n",
       "      <td>song clover cage mirror mirror two songs keepi...</td>\n",
       "      <td>2020-08-21T03:47:34Z</td>\n",
       "      <td>1</td>\n",
       "    </tr>\n",
       "    <tr>\n",
       "      <th>13321</th>\n",
       "      <td>Justin Bieber - What Do You Mean? (Official Mu...</td>\n",
       "      <td>JustinBieberVEVO</td>\n",
       "      <td>Ugy_aF7PZibC9XCFpcR4AaABAg</td>\n",
       "      <td>Officially Bri</td>\n",
       "      <td>hailey probably hates music video action</td>\n",
       "      <td>2020-03-12T04:49:41Z</td>\n",
       "      <td>789</td>\n",
       "    </tr>\n",
       "    <tr>\n",
       "      <th>13322</th>\n",
       "      <td>Shakira - Chantaje (Official Video) ft. Maluma</td>\n",
       "      <td>shakiraVEVO</td>\n",
       "      <td>Ugyj-E6MbQ-0F-GFeFR4AaABAg</td>\n",
       "      <td>Help Me 5k Subscribers With Videos Challenge</td>\n",
       "      <td>refuse believe song years old seems like yeste...</td>\n",
       "      <td>2020-09-05T17:12:10Z</td>\n",
       "      <td>107</td>\n",
       "    </tr>\n",
       "    <tr>\n",
       "      <th>13323</th>\n",
       "      <td>Katy Perry - Dark Horse (Official) ft. Juicy J</td>\n",
       "      <td>KatyPerryVEVO</td>\n",
       "      <td>UgwQCnHkNl0YvRFP-cJ4AaABAg</td>\n",
       "      <td>• A L A B A M A •</td>\n",
       "      <td>aphrodite even egyptian goddess</td>\n",
       "      <td>2020-09-07T18:54:38Z</td>\n",
       "      <td>40</td>\n",
       "    </tr>\n",
       "    <tr>\n",
       "      <th>13324</th>\n",
       "      <td>Mike Posner - I Took A Pill In Ibiza (Seeb Rem...</td>\n",
       "      <td>MikePosnerVEVO</td>\n",
       "      <td>Ugx0d6DzxCF5KR06TrN4AaABAg</td>\n",
       "      <td>Joy Victoria</td>\n",
       "      <td>miss song brightens everyone morning radio</td>\n",
       "      <td>2020-09-03T19:27:45Z</td>\n",
       "      <td>72</td>\n",
       "    </tr>\n",
       "  </tbody>\n",
       "</table>\n",
       "<p>13325 rows × 7 columns</p>\n",
       "</div>"
      ],
      "text/plain": [
       "                                              Video Name       Channel Name  \\\n",
       "0                Shawn Mendes, Camila Cabello - Señorita    ShawnMendesVEVO   \n",
       "1      David Guetta - Hey Mama (Official Video) ft Ni...       David Guetta   \n",
       "2      Naughty Boy - La la la ft. Sam Smith (Official...     NaughtyBoyVEVO   \n",
       "3              Jennifer Lopez - On The Floor ft. Pitbull  JenniferLopezVEVO   \n",
       "4                Luis Fonsi - Despacito ft. Daddy Yankee      LuisFonsiVEVO   \n",
       "...                                                  ...                ...   \n",
       "13320  OMI - Cheerleader (Felix Jaehn Remix) [Officia...        Ultra Music   \n",
       "13321  Justin Bieber - What Do You Mean? (Official Mu...   JustinBieberVEVO   \n",
       "13322     Shakira - Chantaje (Official Video) ft. Maluma        shakiraVEVO   \n",
       "13323     Katy Perry - Dark Horse (Official) ft. Juicy J      KatyPerryVEVO   \n",
       "13324  Mike Posner - I Took A Pill In Ibiza (Seeb Rem...     MikePosnerVEVO   \n",
       "\n",
       "                       Comment Id  \\\n",
       "0      UgwpZ5rb48Q5UJGuJ9F4AaABAg   \n",
       "1      UgwRwhiW7U-Rmr3xBkR4AaABAg   \n",
       "2      Ugx-4R-oPbL-Toadywt4AaABAg   \n",
       "3      UgwiejUCtaSJZEtzxrR4AaABAg   \n",
       "4      UgwV0tapZzaFxdYm1z14AaABAg   \n",
       "...                           ...   \n",
       "13320  UgyChg1bAC2yhTWmjcl4AaABAg   \n",
       "13321  Ugy_aF7PZibC9XCFpcR4AaABAg   \n",
       "13322  Ugyj-E6MbQ-0F-GFeFR4AaABAg   \n",
       "13323  UgwQCnHkNl0YvRFP-cJ4AaABAg   \n",
       "13324  Ugx0d6DzxCF5KR06TrN4AaABAg   \n",
       "\n",
       "                                          User Name  \\\n",
       "0                                         Pro Gamer   \n",
       "1                                   Immortal Dragon   \n",
       "2                                           2listen   \n",
       "3              100,000 subs with no video challenge   \n",
       "4                                      GAMIT yuvraj   \n",
       "...                                             ...   \n",
       "13320                                 musiclova2112   \n",
       "13321                                Officially Bri   \n",
       "13322  Help Me 5k Subscribers With Videos Challenge   \n",
       "13323                             • A L A B A M A •   \n",
       "13324                                  Joy Victoria   \n",
       "\n",
       "                                                 Comment  \\\n",
       "0                   dont worry one listening masterpiece   \n",
       "1      dont cook dont cleanmy mom screaming sibling k...   \n",
       "2      im covering ears like kidwhen words mean nothi...   \n",
       "3      corona beertrump reality showkaren namefortnig...   \n",
       "4                people liked comment officially b views   \n",
       "...                                                  ...   \n",
       "13320  song clover cage mirror mirror two songs keepi...   \n",
       "13321           hailey probably hates music video action   \n",
       "13322  refuse believe song years old seems like yeste...   \n",
       "13323                    aphrodite even egyptian goddess   \n",
       "13324         miss song brightens everyone morning radio   \n",
       "\n",
       "                       Date  Likes  \n",
       "0      2020-09-06T16:37:11Z     80  \n",
       "1      2020-09-09T04:11:52Z      0  \n",
       "2      2020-09-06T09:50:44Z      1  \n",
       "3      2020-08-25T06:30:14Z    579  \n",
       "4      2020-08-10T20:00:43Z  98280  \n",
       "...                     ...    ...  \n",
       "13320  2020-08-21T03:47:34Z      1  \n",
       "13321  2020-03-12T04:49:41Z    789  \n",
       "13322  2020-09-05T17:12:10Z    107  \n",
       "13323  2020-09-07T18:54:38Z     40  \n",
       "13324  2020-09-03T19:27:45Z     72  \n",
       "\n",
       "[13325 rows x 7 columns]"
      ]
     },
     "execution_count": 10,
     "metadata": {},
     "output_type": "execute_result"
    }
   ],
   "source": [
    "df = df[df['lang'] == 'en'].drop(['lang'], axis=1)\n",
    "df.reset_index(drop=True, inplace=True)\n",
    "df"
   ]
  },
  {
   "cell_type": "code",
   "execution_count": 11,
   "metadata": {
    "execution": {
     "iopub.execute_input": "2021-04-02T12:20:29.356333Z",
     "iopub.status.busy": "2021-04-02T12:20:29.355680Z",
     "iopub.status.idle": "2021-04-02T12:20:29.357781Z",
     "shell.execute_reply": "2021-04-02T12:20:29.358264Z"
    },
    "papermill": {
     "duration": 0.051382,
     "end_time": "2021-04-02T12:20:29.358448",
     "exception": false,
     "start_time": "2021-04-02T12:20:29.307066",
     "status": "completed"
    },
    "tags": []
   },
   "outputs": [],
   "source": [
    "all_comments = ' '.join(df['Comment'].values)"
   ]
  },
  {
   "cell_type": "code",
   "execution_count": 12,
   "metadata": {
    "execution": {
     "iopub.execute_input": "2021-04-02T12:20:29.440753Z",
     "iopub.status.busy": "2021-04-02T12:20:29.440135Z",
     "iopub.status.idle": "2021-04-02T12:20:33.260019Z",
     "shell.execute_reply": "2021-04-02T12:20:33.260519Z"
    },
    "papermill": {
     "duration": 3.862697,
     "end_time": "2021-04-02T12:20:33.260693",
     "exception": false,
     "start_time": "2021-04-02T12:20:29.397996",
     "status": "completed"
    },
    "tags": []
   },
   "outputs": [
    {
     "data": {
      "image/png": "[encoded data removed]",
      "text/plain": [
       "<Figure size 432x288 with 1 Axes>"
      ]
     },
     "metadata": {
      "needs_background": "light"
     },
     "output_type": "display_data"
    },
    {
     "data": {
      "image/png": "[encoded data removed]",
      "text/plain": [
       "<Figure size 432x288 with 1 Axes>"
      ]
     },
     "metadata": {
      "needs_background": "light"
     },
     "output_type": "display_data"
    }
   ],
   "source": [
    "from wordcloud import WordCloud\n",
    "\n",
    "wordcloud = WordCloud().generate(all_comments)\n",
    "plt.imshow(wordcloud, interpolation='bilinear')\n",
    "plt.axis(\"off\")\n",
    "\n",
    "wordcloud = WordCloud(max_font_size=40).generate(all_comments)\n",
    "plt.figure()\n",
    "plt.imshow(wordcloud, interpolation=\"bilinear\")\n",
    "plt.axis(\"off\")\n",
    "plt.show()"
   ]
  },
  {
   "cell_type": "code",
   "execution_count": 13,
   "metadata": {
    "execution": {
     "iopub.execute_input": "2021-04-02T12:20:33.356029Z",
     "iopub.status.busy": "2021-04-02T12:20:33.355405Z",
     "iopub.status.idle": "2021-04-02T12:20:33.358785Z",
     "shell.execute_reply": "2021-04-02T12:20:33.359365Z"
    },
    "papermill": {
     "duration": 0.052049,
     "end_time": "2021-04-02T12:20:33.359558",
     "exception": false,
     "start_time": "2021-04-02T12:20:33.307509",
     "status": "completed"
    },
    "tags": []
   },
   "outputs": [],
   "source": [
    "from nltk.probability import FreqDist"
   ]
  },
  {
   "cell_type": "code",
   "execution_count": 14,
   "metadata": {
    "execution": {
     "iopub.execute_input": "2021-04-02T12:20:33.454312Z",
     "iopub.status.busy": "2021-04-02T12:20:33.453665Z",
     "iopub.status.idle": "2021-04-02T12:20:33.898198Z",
     "shell.execute_reply": "2021-04-02T12:20:33.897697Z"
    },
    "papermill": {
     "duration": 0.492962,
     "end_time": "2021-04-02T12:20:33.898344",
     "exception": false,
     "start_time": "2021-04-02T12:20:33.405382",
     "status": "completed"
    },
    "tags": []
   },
   "outputs": [
    {
     "data": {
      "image/png": "[encoded data removed]",
      "text/plain": [
       "<Figure size 432x288 with 1 Axes>"
      ]
     },
     "metadata": {
      "needs_background": "light"
     },
     "output_type": "display_data"
    }
   ],
   "source": [
    "fdist = FreqDist(all_comments.split(' '))\n",
    "fdist.plot(8,cumulative=False)"
   ]
  },
  {
   "cell_type": "code",
   "execution_count": 15,
   "metadata": {
    "execution": {
     "iopub.execute_input": "2021-04-02T12:20:34.002289Z",
     "iopub.status.busy": "2021-04-02T12:20:34.001542Z",
     "iopub.status.idle": "2021-04-02T12:20:34.005327Z",
     "shell.execute_reply": "2021-04-02T12:20:34.005916Z"
    },
    "papermill": {
     "duration": 0.061185,
     "end_time": "2021-04-02T12:20:34.006090",
     "exception": false,
     "start_time": "2021-04-02T12:20:33.944905",
     "status": "completed"
    },
    "tags": []
   },
   "outputs": [
    {
     "data": {
      "text/plain": [
       "['song', 'like', 'dont', 'im', 'love', 'people', 'know', 'years']"
      ]
     },
     "execution_count": 15,
     "metadata": {},
     "output_type": "execute_result"
    }
   ],
   "source": [
    "most_common = [item[0] for item in fdist.most_common(8)]\n",
    "most_common"
   ]
  },
  {
   "cell_type": "code",
   "execution_count": 16,
   "metadata": {
    "execution": {
     "iopub.execute_input": "2021-04-02T12:20:34.105671Z",
     "iopub.status.busy": "2021-04-02T12:20:34.104966Z",
     "iopub.status.idle": "2021-04-02T12:20:34.109216Z",
     "shell.execute_reply": "2021-04-02T12:20:34.109715Z"
    },
    "papermill": {
     "duration": 0.05529,
     "end_time": "2021-04-02T12:20:34.109872",
     "exception": false,
     "start_time": "2021-04-02T12:20:34.054582",
     "status": "completed"
    },
    "tags": []
   },
   "outputs": [
    {
     "data": {
      "text/plain": [
       "(13325, 7)"
      ]
     },
     "execution_count": 16,
     "metadata": {},
     "output_type": "execute_result"
    }
   ],
   "source": [
    "df.shape"
   ]
  },
  {
   "cell_type": "code",
   "execution_count": 17,
   "metadata": {
    "execution": {
     "iopub.execute_input": "2021-04-02T12:20:34.213765Z",
     "iopub.status.busy": "2021-04-02T12:20:34.212881Z",
     "iopub.status.idle": "2021-04-02T12:20:34.215188Z",
     "shell.execute_reply": "2021-04-02T12:20:34.215679Z"
    },
    "papermill": {
     "duration": 0.057413,
     "end_time": "2021-04-02T12:20:34.215916",
     "exception": false,
     "start_time": "2021-04-02T12:20:34.158503",
     "status": "completed"
    },
    "tags": []
   },
   "outputs": [],
   "source": [
    "def clear_most_common_word(x):\n",
    "    x = x.split(' ')\n",
    "    return ' '.join([word for word in x if not word in most_common])"
   ]
  },
  {
   "cell_type": "code",
   "execution_count": 18,
   "metadata": {
    "execution": {
     "iopub.execute_input": "2021-04-02T12:20:34.332599Z",
     "iopub.status.busy": "2021-04-02T12:20:34.327368Z",
     "iopub.status.idle": "2021-04-02T12:20:34.381406Z",
     "shell.execute_reply": "2021-04-02T12:20:34.380718Z"
    },
    "papermill": {
     "duration": 0.117503,
     "end_time": "2021-04-02T12:20:34.381557",
     "exception": false,
     "start_time": "2021-04-02T12:20:34.264054",
     "status": "completed"
    },
    "tags": []
   },
   "outputs": [],
   "source": [
    "df['Comment'] = df['Comment'].apply(clear_most_common_word)"
   ]
  },
  {
   "cell_type": "code",
   "execution_count": 19,
   "metadata": {
    "execution": {
     "iopub.execute_input": "2021-04-02T12:20:34.493055Z",
     "iopub.status.busy": "2021-04-02T12:20:34.492060Z",
     "iopub.status.idle": "2021-04-02T12:20:34.496496Z",
     "shell.execute_reply": "2021-04-02T12:20:34.495900Z"
    },
    "papermill": {
     "duration": 0.066897,
     "end_time": "2021-04-02T12:20:34.496635",
     "exception": false,
     "start_time": "2021-04-02T12:20:34.429738",
     "status": "completed"
    },
    "tags": []
   },
   "outputs": [
    {
     "data": {
      "text/html": [
       "<div>\n",
       "<style scoped>\n",
       "    .dataframe tbody tr th:only-of-type {\n",
       "        vertical-align: middle;\n",
       "    }\n",
       "\n",
       "    .dataframe tbody tr th {\n",
       "        vertical-align: top;\n",
       "    }\n",
       "\n",
       "    .dataframe thead th {\n",
       "        text-align: right;\n",
       "    }\n",
       "</style>\n",
       "<table border=\"1\" class=\"dataframe\">\n",
       "  <thead>\n",
       "    <tr style=\"text-align: right;\">\n",
       "      <th></th>\n",
       "      <th>Video Name</th>\n",
       "      <th>Channel Name</th>\n",
       "      <th>Comment Id</th>\n",
       "      <th>User Name</th>\n",
       "      <th>Comment</th>\n",
       "      <th>Date</th>\n",
       "      <th>Likes</th>\n",
       "    </tr>\n",
       "  </thead>\n",
       "  <tbody>\n",
       "    <tr>\n",
       "      <th>0</th>\n",
       "      <td>Shawn Mendes, Camila Cabello - Señorita</td>\n",
       "      <td>ShawnMendesVEVO</td>\n",
       "      <td>UgwpZ5rb48Q5UJGuJ9F4AaABAg</td>\n",
       "      <td>Pro Gamer</td>\n",
       "      <td>worry one listening masterpiece</td>\n",
       "      <td>2020-09-06T16:37:11Z</td>\n",
       "      <td>80</td>\n",
       "    </tr>\n",
       "    <tr>\n",
       "      <th>1</th>\n",
       "      <td>David Guetta - Hey Mama (Official Video) ft Ni...</td>\n",
       "      <td>David Guetta</td>\n",
       "      <td>UgwRwhiW7U-Rmr3xBkR4AaABAg</td>\n",
       "      <td>Immortal Dragon</td>\n",
       "      <td>cook cleanmy mom screaming sibling nextyes coo...</td>\n",
       "      <td>2020-09-09T04:11:52Z</td>\n",
       "      <td>0</td>\n",
       "    </tr>\n",
       "    <tr>\n",
       "      <th>2</th>\n",
       "      <td>Naughty Boy - La la la ft. Sam Smith (Official...</td>\n",
       "      <td>NaughtyBoyVEVO</td>\n",
       "      <td>Ugx-4R-oPbL-Toadywt4AaABAg</td>\n",
       "      <td>2listen</td>\n",
       "      <td>covering ears kidwhen words mean nothing go la...</td>\n",
       "      <td>2020-09-06T09:50:44Z</td>\n",
       "      <td>1</td>\n",
       "    </tr>\n",
       "    <tr>\n",
       "      <th>3</th>\n",
       "      <td>Jennifer Lopez - On The Floor ft. Pitbull</td>\n",
       "      <td>JenniferLopezVEVO</td>\n",
       "      <td>UgwiejUCtaSJZEtzxrR4AaABAg</td>\n",
       "      <td>100,000 subs with no video challenge</td>\n",
       "      <td>corona beertrump reality showkaren namefortnig...</td>\n",
       "      <td>2020-08-25T06:30:14Z</td>\n",
       "      <td>579</td>\n",
       "    </tr>\n",
       "    <tr>\n",
       "      <th>4</th>\n",
       "      <td>Luis Fonsi - Despacito ft. Daddy Yankee</td>\n",
       "      <td>LuisFonsiVEVO</td>\n",
       "      <td>UgwV0tapZzaFxdYm1z14AaABAg</td>\n",
       "      <td>GAMIT yuvraj</td>\n",
       "      <td>liked comment officially b views</td>\n",
       "      <td>2020-08-10T20:00:43Z</td>\n",
       "      <td>98280</td>\n",
       "    </tr>\n",
       "  </tbody>\n",
       "</table>\n",
       "</div>"
      ],
      "text/plain": [
       "                                          Video Name       Channel Name  \\\n",
       "0            Shawn Mendes, Camila Cabello - Señorita    ShawnMendesVEVO   \n",
       "1  David Guetta - Hey Mama (Official Video) ft Ni...       David Guetta   \n",
       "2  Naughty Boy - La la la ft. Sam Smith (Official...     NaughtyBoyVEVO   \n",
       "3          Jennifer Lopez - On The Floor ft. Pitbull  JenniferLopezVEVO   \n",
       "4            Luis Fonsi - Despacito ft. Daddy Yankee      LuisFonsiVEVO   \n",
       "\n",
       "                   Comment Id                             User Name  \\\n",
       "0  UgwpZ5rb48Q5UJGuJ9F4AaABAg                             Pro Gamer   \n",
       "1  UgwRwhiW7U-Rmr3xBkR4AaABAg                       Immortal Dragon   \n",
       "2  Ugx-4R-oPbL-Toadywt4AaABAg                               2listen   \n",
       "3  UgwiejUCtaSJZEtzxrR4AaABAg  100,000 subs with no video challenge   \n",
       "4  UgwV0tapZzaFxdYm1z14AaABAg                          GAMIT yuvraj   \n",
       "\n",
       "                                             Comment                  Date  \\\n",
       "0                    worry one listening masterpiece  2020-09-06T16:37:11Z   \n",
       "1  cook cleanmy mom screaming sibling nextyes coo...  2020-09-09T04:11:52Z   \n",
       "2  covering ears kidwhen words mean nothing go la...  2020-09-06T09:50:44Z   \n",
       "3  corona beertrump reality showkaren namefortnig...  2020-08-25T06:30:14Z   \n",
       "4                   liked comment officially b views  2020-08-10T20:00:43Z   \n",
       "\n",
       "   Likes  \n",
       "0     80  \n",
       "1      0  \n",
       "2      1  \n",
       "3    579  \n",
       "4  98280  "
      ]
     },
     "execution_count": 19,
     "metadata": {},
     "output_type": "execute_result"
    }
   ],
   "source": [
    "df.head()"
   ]
  },
  {
   "cell_type": "code",
   "execution_count": 20,
   "metadata": {
    "execution": {
     "iopub.execute_input": "2021-04-02T12:20:34.598999Z",
     "iopub.status.busy": "2021-04-02T12:20:34.598109Z",
     "iopub.status.idle": "2021-04-02T12:20:34.622724Z",
     "shell.execute_reply": "2021-04-02T12:20:34.622200Z"
    },
    "papermill": {
     "duration": 0.077938,
     "end_time": "2021-04-02T12:20:34.622867",
     "exception": false,
     "start_time": "2021-04-02T12:20:34.544929",
     "status": "completed"
    },
    "tags": []
   },
   "outputs": [
    {
     "data": {
      "text/plain": [
       "(13325, 10816)"
      ]
     },
     "execution_count": 20,
     "metadata": {},
     "output_type": "execute_result"
    }
   ],
   "source": [
    "(df.shape[0], df[df['Likes'] < 1000].shape[0])"
   ]
  },
  {
   "cell_type": "code",
   "execution_count": 21,
   "metadata": {
    "execution": {
     "iopub.execute_input": "2021-04-02T12:20:34.726504Z",
     "iopub.status.busy": "2021-04-02T12:20:34.725829Z",
     "iopub.status.idle": "2021-04-02T12:20:34.890256Z",
     "shell.execute_reply": "2021-04-02T12:20:34.890886Z"
    },
    "papermill": {
     "duration": 0.219187,
     "end_time": "2021-04-02T12:20:34.891077",
     "exception": false,
     "start_time": "2021-04-02T12:20:34.671890",
     "status": "completed"
    },
    "tags": []
   },
   "outputs": [
    {
     "data": {
      "text/plain": [
       "<AxesSubplot:>"
      ]
     },
     "execution_count": 21,
     "metadata": {},
     "output_type": "execute_result"
    },
    {
     "data": {
      "image/png": "[encoded data removed]",
      "text/plain": [
       "<Figure size 432x288 with 1 Axes>"
      ]
     },
     "metadata": {
      "needs_background": "light"
     },
     "output_type": "display_data"
    }
   ],
   "source": [
    "df[df['Likes'] < 1000]['Likes'].hist()"
   ]
  },
  {
   "cell_type": "code",
   "execution_count": 22,
   "metadata": {
    "execution": {
     "iopub.execute_input": "2021-04-02T12:20:34.995501Z",
     "iopub.status.busy": "2021-04-02T12:20:34.994523Z",
     "iopub.status.idle": "2021-04-02T12:20:35.007696Z",
     "shell.execute_reply": "2021-04-02T12:20:35.006580Z"
    },
    "papermill": {
     "duration": 0.06631,
     "end_time": "2021-04-02T12:20:35.007849",
     "exception": false,
     "start_time": "2021-04-02T12:20:34.941539",
     "status": "completed"
    },
    "tags": []
   },
   "outputs": [],
   "source": [
    "df = df[df['Likes'] < 1000]\n",
    "df = df[df['Likes'] > 0]\n",
    "df.reset_index(drop=True, inplace=True)"
   ]
  },
  {
   "cell_type": "code",
   "execution_count": 23,
   "metadata": {
    "execution": {
     "iopub.execute_input": "2021-04-02T12:20:35.113672Z",
     "iopub.status.busy": "2021-04-02T12:20:35.112691Z",
     "iopub.status.idle": "2021-04-02T12:20:35.116340Z",
     "shell.execute_reply": "2021-04-02T12:20:35.116928Z"
    },
    "papermill": {
     "duration": 0.058371,
     "end_time": "2021-04-02T12:20:35.117113",
     "exception": false,
     "start_time": "2021-04-02T12:20:35.058742",
     "status": "completed"
    },
    "tags": []
   },
   "outputs": [],
   "source": [
    "# df['Likes'].apply(log).hist()"
   ]
  },
  {
   "cell_type": "code",
   "execution_count": 24,
   "metadata": {
    "execution": {
     "iopub.execute_input": "2021-04-02T12:20:35.223289Z",
     "iopub.status.busy": "2021-04-02T12:20:35.222680Z",
     "iopub.status.idle": "2021-04-02T12:20:35.225545Z",
     "shell.execute_reply": "2021-04-02T12:20:35.225001Z"
    },
    "papermill": {
     "duration": 0.057288,
     "end_time": "2021-04-02T12:20:35.225695",
     "exception": false,
     "start_time": "2021-04-02T12:20:35.168407",
     "status": "completed"
    },
    "tags": []
   },
   "outputs": [],
   "source": [
    "# df['Likes'] = df['Likes'].apply(log)"
   ]
  },
  {
   "cell_type": "markdown",
   "metadata": {
    "papermill": {
     "duration": 0.050719,
     "end_time": "2021-04-02T12:20:35.327513",
     "exception": false,
     "start_time": "2021-04-02T12:20:35.276794",
     "status": "completed"
    },
    "tags": []
   },
   "source": [
    "проверим на выбросы"
   ]
  },
  {
   "cell_type": "code",
   "execution_count": 25,
   "metadata": {
    "execution": {
     "iopub.execute_input": "2021-04-02T12:20:35.436892Z",
     "iopub.status.busy": "2021-04-02T12:20:35.435692Z",
     "iopub.status.idle": "2021-04-02T12:20:35.443038Z",
     "shell.execute_reply": "2021-04-02T12:20:35.442537Z"
    },
    "papermill": {
     "duration": 0.064543,
     "end_time": "2021-04-02T12:20:35.443192",
     "exception": false,
     "start_time": "2021-04-02T12:20:35.378649",
     "status": "completed"
    },
    "tags": []
   },
   "outputs": [],
   "source": [
    "target = df['Likes']\n",
    "mean, std = target.mean(), target.std()\n",
    "outliers = (abs(target - mean) > 3 * std)\n",
    "outliers = target[outliers] \n",
    "\n",
    "drop_emissions_df = df.drop(outliers.index) "
   ]
  },
  {
   "cell_type": "code",
   "execution_count": 26,
   "metadata": {
    "execution": {
     "iopub.execute_input": "2021-04-02T12:20:35.551121Z",
     "iopub.status.busy": "2021-04-02T12:20:35.550514Z",
     "iopub.status.idle": "2021-04-02T12:20:35.554160Z",
     "shell.execute_reply": "2021-04-02T12:20:35.554651Z"
    },
    "papermill": {
     "duration": 0.06021,
     "end_time": "2021-04-02T12:20:35.554819",
     "exception": false,
     "start_time": "2021-04-02T12:20:35.494609",
     "status": "completed"
    },
    "tags": []
   },
   "outputs": [
    {
     "data": {
      "text/plain": [
       "318"
      ]
     },
     "execution_count": 26,
     "metadata": {},
     "output_type": "execute_result"
    }
   ],
   "source": [
    "df.shape[0] - drop_emissions_df.shape[0]"
   ]
  },
  {
   "cell_type": "code",
   "execution_count": 27,
   "metadata": {
    "execution": {
     "iopub.execute_input": "2021-04-02T12:20:35.662815Z",
     "iopub.status.busy": "2021-04-02T12:20:35.661803Z",
     "iopub.status.idle": "2021-04-02T12:20:35.664924Z",
     "shell.execute_reply": "2021-04-02T12:20:35.664422Z"
    },
    "papermill": {
     "duration": 0.058958,
     "end_time": "2021-04-02T12:20:35.665075",
     "exception": false,
     "start_time": "2021-04-02T12:20:35.606117",
     "status": "completed"
    },
    "tags": []
   },
   "outputs": [],
   "source": [
    "from sklearn.feature_extraction.text import TfidfVectorizer"
   ]
  },
  {
   "cell_type": "code",
   "execution_count": 28,
   "metadata": {
    "execution": {
     "iopub.execute_input": "2021-04-02T12:20:35.812260Z",
     "iopub.status.busy": "2021-04-02T12:20:35.807452Z",
     "iopub.status.idle": "2021-04-02T12:20:36.016903Z",
     "shell.execute_reply": "2021-04-02T12:20:36.016250Z"
    },
    "papermill": {
     "duration": 0.300752,
     "end_time": "2021-04-02T12:20:36.017041",
     "exception": false,
     "start_time": "2021-04-02T12:20:35.716289",
     "status": "completed"
    },
    "tags": []
   },
   "outputs": [],
   "source": [
    "tfidf = TfidfVectorizer()\n",
    "matrix = tfidf.fit_transform(df['Comment'])"
   ]
  },
  {
   "cell_type": "code",
   "execution_count": 29,
   "metadata": {
    "execution": {
     "iopub.execute_input": "2021-04-02T12:20:36.125135Z",
     "iopub.status.busy": "2021-04-02T12:20:36.124387Z",
     "iopub.status.idle": "2021-04-02T12:20:36.455972Z",
     "shell.execute_reply": "2021-04-02T12:20:36.456483Z"
    },
    "papermill": {
     "duration": 0.388163,
     "end_time": "2021-04-02T12:20:36.456659",
     "exception": false,
     "start_time": "2021-04-02T12:20:36.068496",
     "status": "completed"
    },
    "tags": []
   },
   "outputs": [
    {
     "data": {
      "text/plain": [
       "(9683, 16225)"
      ]
     },
     "execution_count": 29,
     "metadata": {},
     "output_type": "execute_result"
    }
   ],
   "source": [
    "reg_df = pd.DataFrame(matrix.toarray())\n",
    "reg_df.shape"
   ]
  },
  {
   "cell_type": "code",
   "execution_count": 30,
   "metadata": {
    "execution": {
     "iopub.execute_input": "2021-04-02T12:20:36.566879Z",
     "iopub.status.busy": "2021-04-02T12:20:36.566180Z",
     "iopub.status.idle": "2021-04-02T12:20:36.567876Z",
     "shell.execute_reply": "2021-04-02T12:20:36.568453Z"
    },
    "papermill": {
     "duration": 0.058954,
     "end_time": "2021-04-02T12:20:36.568623",
     "exception": false,
     "start_time": "2021-04-02T12:20:36.509669",
     "status": "completed"
    },
    "tags": []
   },
   "outputs": [],
   "source": [
    "from sklearn.preprocessing import LabelEncoder"
   ]
  },
  {
   "cell_type": "code",
   "execution_count": 31,
   "metadata": {
    "execution": {
     "iopub.execute_input": "2021-04-02T12:20:36.678159Z",
     "iopub.status.busy": "2021-04-02T12:20:36.677569Z",
     "iopub.status.idle": "2021-04-02T12:20:36.680999Z",
     "shell.execute_reply": "2021-04-02T12:20:36.681495Z"
    },
    "papermill": {
     "duration": 0.059768,
     "end_time": "2021-04-02T12:20:36.681671",
     "exception": false,
     "start_time": "2021-04-02T12:20:36.621903",
     "status": "completed"
    },
    "tags": []
   },
   "outputs": [],
   "source": [
    "labelencoder = LabelEncoder()"
   ]
  },
  {
   "cell_type": "code",
   "execution_count": 32,
   "metadata": {
    "execution": {
     "iopub.execute_input": "2021-04-02T12:20:36.791099Z",
     "iopub.status.busy": "2021-04-02T12:20:36.790482Z",
     "iopub.status.idle": "2021-04-02T12:20:36.806480Z",
     "shell.execute_reply": "2021-04-02T12:20:36.805872Z"
    },
    "papermill": {
     "duration": 0.071898,
     "end_time": "2021-04-02T12:20:36.806700",
     "exception": false,
     "start_time": "2021-04-02T12:20:36.734802",
     "status": "completed"
    },
    "tags": []
   },
   "outputs": [
    {
     "data": {
      "text/plain": [
       "0     92\n",
       "1     73\n",
       "2     51\n",
       "3    109\n",
       "4     95\n",
       "Name: channel, dtype: int64"
      ]
     },
     "execution_count": 32,
     "metadata": {},
     "output_type": "execute_result"
    }
   ],
   "source": [
    "reg_df['channel'] = labelencoder.fit_transform(df['Channel Name'])\n",
    "reg_df['channel'].head()"
   ]
  },
  {
   "cell_type": "code",
   "execution_count": 33,
   "metadata": {
    "execution": {
     "iopub.execute_input": "2021-04-02T12:20:36.937073Z",
     "iopub.status.busy": "2021-04-02T12:20:36.921954Z",
     "iopub.status.idle": "2021-04-02T12:20:36.954429Z",
     "shell.execute_reply": "2021-04-02T12:20:36.953827Z"
    },
    "papermill": {
     "duration": 0.094292,
     "end_time": "2021-04-02T12:20:36.954567",
     "exception": false,
     "start_time": "2021-04-02T12:20:36.860275",
     "status": "completed"
    },
    "tags": []
   },
   "outputs": [
    {
     "data": {
      "text/plain": [
       "0    4500\n",
       "1     101\n",
       "2      42\n",
       "3    5969\n",
       "4    5783\n",
       "Name: username, dtype: int64"
      ]
     },
     "execution_count": 33,
     "metadata": {},
     "output_type": "execute_result"
    }
   ],
   "source": [
    "reg_df['username'] = labelencoder.fit_transform(df['User Name'])\n",
    "reg_df['username'].head()"
   ]
  },
  {
   "cell_type": "code",
   "execution_count": 34,
   "metadata": {
    "execution": {
     "iopub.execute_input": "2021-04-02T12:20:37.067318Z",
     "iopub.status.busy": "2021-04-02T12:20:37.066353Z",
     "iopub.status.idle": "2021-04-02T12:20:37.069287Z",
     "shell.execute_reply": "2021-04-02T12:20:37.068677Z"
    },
    "papermill": {
     "duration": 0.061176,
     "end_time": "2021-04-02T12:20:37.069434",
     "exception": false,
     "start_time": "2021-04-02T12:20:37.008258",
     "status": "completed"
    },
    "tags": []
   },
   "outputs": [],
   "source": [
    "from sklearn.preprocessing import Normalizer"
   ]
  },
  {
   "cell_type": "code",
   "execution_count": 35,
   "metadata": {
    "execution": {
     "iopub.execute_input": "2021-04-02T12:20:37.183263Z",
     "iopub.status.busy": "2021-04-02T12:20:37.182613Z",
     "iopub.status.idle": "2021-04-02T12:20:37.185938Z",
     "shell.execute_reply": "2021-04-02T12:20:37.185305Z"
    },
    "papermill": {
     "duration": 0.06202,
     "end_time": "2021-04-02T12:20:37.186076",
     "exception": false,
     "start_time": "2021-04-02T12:20:37.124056",
     "status": "completed"
    },
    "tags": []
   },
   "outputs": [],
   "source": [
    "norm = Normalizer()"
   ]
  },
  {
   "cell_type": "code",
   "execution_count": 36,
   "metadata": {
    "execution": {
     "iopub.execute_input": "2021-04-02T12:20:37.344772Z",
     "iopub.status.busy": "2021-04-02T12:20:37.310802Z",
     "iopub.status.idle": "2021-04-02T12:20:44.934510Z",
     "shell.execute_reply": "2021-04-02T12:20:44.933815Z"
    },
    "papermill": {
     "duration": 7.694047,
     "end_time": "2021-04-02T12:20:44.934669",
     "exception": false,
     "start_time": "2021-04-02T12:20:37.240622",
     "status": "completed"
    },
    "tags": []
   },
   "outputs": [],
   "source": [
    "norm_reg_df = norm.fit_transform(reg_df)"
   ]
  },
  {
   "cell_type": "code",
   "execution_count": 37,
   "metadata": {
    "execution": {
     "iopub.execute_input": "2021-04-02T12:20:45.065095Z",
     "iopub.status.busy": "2021-04-02T12:20:45.064354Z",
     "iopub.status.idle": "2021-04-02T12:20:45.211333Z",
     "shell.execute_reply": "2021-04-02T12:20:45.211856Z"
    },
    "papermill": {
     "duration": 0.223077,
     "end_time": "2021-04-02T12:20:45.212038",
     "exception": false,
     "start_time": "2021-04-02T12:20:44.988961",
     "status": "completed"
    },
    "tags": []
   },
   "outputs": [
    {
     "data": {
      "text/plain": [
       "<AxesSubplot:>"
      ]
     },
     "execution_count": 37,
     "metadata": {},
     "output_type": "execute_result"
    },
    {
     "data": {
      "image/png": "[encoded data removed]",
      "text/plain": [
       "<Figure size 432x288 with 1 Axes>"
      ]
     },
     "metadata": {
      "needs_background": "light"
     },
     "output_type": "display_data"
    }
   ],
   "source": [
    "df['Likes'].hist()"
   ]
  },
  {
   "cell_type": "markdown",
   "metadata": {
    "papermill": {
     "duration": 0.05534,
     "end_time": "2021-04-02T12:20:45.324077",
     "exception": false,
     "start_time": "2021-04-02T12:20:45.268737",
     "status": "completed"
    },
    "tags": []
   },
   "source": [
    "# Regression"
   ]
  },
  {
   "cell_type": "code",
   "execution_count": 38,
   "metadata": {
    "execution": {
     "iopub.execute_input": "2021-04-02T12:20:45.437252Z",
     "iopub.status.busy": "2021-04-02T12:20:45.436662Z",
     "iopub.status.idle": "2021-04-02T12:20:45.440660Z",
     "shell.execute_reply": "2021-04-02T12:20:45.441116Z"
    },
    "papermill": {
     "duration": 0.062053,
     "end_time": "2021-04-02T12:20:45.441292",
     "exception": false,
     "start_time": "2021-04-02T12:20:45.379239",
     "status": "completed"
    },
    "tags": []
   },
   "outputs": [],
   "source": [
    "from sklearn.model_selection import train_test_split"
   ]
  },
  {
   "cell_type": "code",
   "execution_count": 39,
   "metadata": {
    "execution": {
     "iopub.execute_input": "2021-04-02T12:20:45.557747Z",
     "iopub.status.busy": "2021-04-02T12:20:45.556810Z",
     "iopub.status.idle": "2021-04-02T12:20:45.560704Z",
     "shell.execute_reply": "2021-04-02T12:20:45.561120Z"
    },
    "papermill": {
     "duration": 0.063235,
     "end_time": "2021-04-02T12:20:45.561298",
     "exception": false,
     "start_time": "2021-04-02T12:20:45.498063",
     "status": "completed"
    },
    "tags": []
   },
   "outputs": [],
   "source": [
    "X = norm_reg_df\n",
    "y = df['Likes']"
   ]
  },
  {
   "cell_type": "code",
   "execution_count": 40,
   "metadata": {
    "execution": {
     "iopub.execute_input": "2021-04-02T12:20:45.676626Z",
     "iopub.status.busy": "2021-04-02T12:20:45.675991Z",
     "iopub.status.idle": "2021-04-02T12:20:49.539295Z",
     "shell.execute_reply": "2021-04-02T12:20:49.539802Z"
    },
    "papermill": {
     "duration": 3.922493,
     "end_time": "2021-04-02T12:20:49.539990",
     "exception": false,
     "start_time": "2021-04-02T12:20:45.617497",
     "status": "completed"
    },
    "tags": []
   },
   "outputs": [],
   "source": [
    "X_train, X_test, y_train, y_test = train_test_split(X, y, test_size=0.2, random_state=1)"
   ]
  },
  {
   "cell_type": "code",
   "execution_count": 41,
   "metadata": {
    "execution": {
     "iopub.execute_input": "2021-04-02T12:20:49.656747Z",
     "iopub.status.busy": "2021-04-02T12:20:49.656066Z",
     "iopub.status.idle": "2021-04-02T12:20:56.374351Z",
     "shell.execute_reply": "2021-04-02T12:20:56.373786Z"
    },
    "papermill": {
     "duration": 6.777968,
     "end_time": "2021-04-02T12:20:56.374537",
     "exception": false,
     "start_time": "2021-04-02T12:20:49.596569",
     "status": "completed"
    },
    "tags": []
   },
   "outputs": [
    {
     "name": "stdout",
     "output_type": "stream",
     "text": [
      "Requirement already satisfied: catboost in /opt/conda/lib/python3.7/site-packages (0.24.4)\r\n",
      "Requirement already satisfied: matplotlib in /opt/conda/lib/python3.7/site-packages (from catboost) (3.3.3)\r\n",
      "Requirement already satisfied: numpy>=1.16.0 in /opt/conda/lib/python3.7/site-packages (from catboost) (1.19.5)\r\n",
      "Requirement already satisfied: plotly in /opt/conda/lib/python3.7/site-packages (from catboost) (4.14.3)\r\n",
      "Requirement already satisfied: pandas>=0.24.0 in /opt/conda/lib/python3.7/site-packages (from catboost) (1.2.0)\r\n",
      "Requirement already satisfied: graphviz in /opt/conda/lib/python3.7/site-packages (from catboost) (0.8.4)\r\n",
      "Requirement already satisfied: scipy in /opt/conda/lib/python3.7/site-packages (from catboost) (1.5.4)\r\n",
      "Requirement already satisfied: six in /opt/conda/lib/python3.7/site-packages (from catboost) (1.15.0)\r\n",
      "Requirement already satisfied: python-dateutil>=2.7.3 in /opt/conda/lib/python3.7/site-packages (from pandas>=0.24.0->catboost) (2.8.1)\r\n",
      "Requirement already satisfied: pytz>=2017.3 in /opt/conda/lib/python3.7/site-packages (from pandas>=0.24.0->catboost) (2020.5)\r\n",
      "Requirement already satisfied: pillow>=6.2.0 in /opt/conda/lib/python3.7/site-packages (from matplotlib->catboost) (7.2.0)\r\n",
      "Requirement already satisfied: pyparsing!=2.0.4,!=2.1.2,!=2.1.6,>=2.0.3 in /opt/conda/lib/python3.7/site-packages (from matplotlib->catboost) (2.4.7)\r\n",
      "Requirement already satisfied: cycler>=0.10 in /opt/conda/lib/python3.7/site-packages (from matplotlib->catboost) (0.10.0)\r\n",
      "Requirement already satisfied: kiwisolver>=1.0.1 in /opt/conda/lib/python3.7/site-packages (from matplotlib->catboost) (1.3.1)\r\n",
      "Requirement already satisfied: retrying>=1.3.3 in /opt/conda/lib/python3.7/site-packages (from plotly->catboost) (1.3.3)\r\n"
     ]
    }
   ],
   "source": [
    "! pip install catboost"
   ]
  },
  {
   "cell_type": "code",
   "execution_count": 42,
   "metadata": {
    "execution": {
     "iopub.execute_input": "2021-04-02T12:20:56.495231Z",
     "iopub.status.busy": "2021-04-02T12:20:56.494563Z",
     "iopub.status.idle": "2021-04-02T12:20:56.650058Z",
     "shell.execute_reply": "2021-04-02T12:20:56.649333Z"
    },
    "papermill": {
     "duration": 0.217475,
     "end_time": "2021-04-02T12:20:56.650205",
     "exception": false,
     "start_time": "2021-04-02T12:20:56.432730",
     "status": "completed"
    },
    "tags": []
   },
   "outputs": [],
   "source": [
    "from catboost import CatBoostRegressor"
   ]
  },
  {
   "cell_type": "code",
   "execution_count": 43,
   "metadata": {
    "execution": {
     "iopub.execute_input": "2021-04-02T12:20:56.772343Z",
     "iopub.status.busy": "2021-04-02T12:20:56.771650Z",
     "iopub.status.idle": "2021-04-02T12:20:56.775048Z",
     "shell.execute_reply": "2021-04-02T12:20:56.774464Z"
    },
    "papermill": {
     "duration": 0.067554,
     "end_time": "2021-04-02T12:20:56.775189",
     "exception": false,
     "start_time": "2021-04-02T12:20:56.707635",
     "status": "completed"
    },
    "tags": []
   },
   "outputs": [],
   "source": [
    "catboost = CatBoostRegressor(iterations=1000,\n",
    "                             learning_rate=0.03,\n",
    "                             depth=8)"
   ]
  },
  {
   "cell_type": "code",
   "execution_count": 44,
   "metadata": {
    "execution": {
     "iopub.execute_input": "2021-04-02T12:20:56.899780Z",
     "iopub.status.busy": "2021-04-02T12:20:56.899085Z",
     "iopub.status.idle": "2021-04-02T12:25:26.173342Z",
     "shell.execute_reply": "2021-04-02T12:25:26.172703Z"
    },
    "papermill": {
     "duration": 269.34104,
     "end_time": "2021-04-02T12:25:26.173708",
     "exception": false,
     "start_time": "2021-04-02T12:20:56.832668",
     "status": "completed"
    },
    "tags": []
   },
   "outputs": [
    {
     "name": "stdout",
     "output_type": "stream",
     "text": [
      "0:\tlearn: 160.4769520\ttotal: 452ms\tremaining: 7m 31s\n",
      "1:\tlearn: 160.4162947\ttotal: 696ms\tremaining: 5m 47s\n",
      "2:\tlearn: 160.3911916\ttotal: 900ms\tremaining: 4m 59s\n",
      "3:\tlearn: 160.3626572\ttotal: 1.09s\tremaining: 4m 31s\n",
      "4:\tlearn: 160.3331798\ttotal: 1.28s\tremaining: 4m 15s\n",
      "5:\tlearn: 160.2970978\ttotal: 1.48s\tremaining: 4m 4s\n",
      "6:\tlearn: 160.2330378\ttotal: 1.67s\tremaining: 3m 57s\n",
      "7:\tlearn: 160.1993426\ttotal: 1.87s\tremaining: 3m 51s\n",
      "8:\tlearn: 160.1532703\ttotal: 2.06s\tremaining: 3m 47s\n",
      "9:\tlearn: 160.0828497\ttotal: 2.27s\tremaining: 3m 44s\n",
      "10:\tlearn: 160.0325254\ttotal: 2.46s\tremaining: 3m 41s\n",
      "11:\tlearn: 159.9789238\ttotal: 2.66s\tremaining: 3m 38s\n",
      "12:\tlearn: 159.9405642\ttotal: 2.86s\tremaining: 3m 37s\n",
      "13:\tlearn: 159.9110260\ttotal: 3.06s\tremaining: 3m 35s\n",
      "14:\tlearn: 159.8777295\ttotal: 3.26s\tremaining: 3m 34s\n",
      "15:\tlearn: 159.8482618\ttotal: 3.46s\tremaining: 3m 33s\n",
      "16:\tlearn: 159.8272210\ttotal: 3.67s\tremaining: 3m 32s\n",
      "17:\tlearn: 159.7792457\ttotal: 3.87s\tremaining: 3m 31s\n",
      "18:\tlearn: 159.7218487\ttotal: 4.07s\tremaining: 3m 30s\n",
      "19:\tlearn: 159.7007132\ttotal: 4.28s\tremaining: 3m 29s\n",
      "20:\tlearn: 159.6672044\ttotal: 4.48s\tremaining: 3m 28s\n",
      "21:\tlearn: 159.6443864\ttotal: 4.69s\tremaining: 3m 28s\n",
      "22:\tlearn: 159.5938567\ttotal: 4.9s\tremaining: 3m 28s\n",
      "23:\tlearn: 159.5745054\ttotal: 5.11s\tremaining: 3m 27s\n",
      "24:\tlearn: 159.5522308\ttotal: 5.32s\tremaining: 3m 27s\n",
      "25:\tlearn: 159.5260924\ttotal: 5.53s\tremaining: 3m 27s\n",
      "26:\tlearn: 159.4893313\ttotal: 5.75s\tremaining: 3m 27s\n",
      "27:\tlearn: 159.4555375\ttotal: 5.96s\tremaining: 3m 26s\n",
      "28:\tlearn: 159.4262851\ttotal: 6.16s\tremaining: 3m 26s\n",
      "29:\tlearn: 159.3884321\ttotal: 6.37s\tremaining: 3m 25s\n",
      "30:\tlearn: 159.3332280\ttotal: 6.58s\tremaining: 3m 25s\n",
      "31:\tlearn: 159.3090122\ttotal: 6.78s\tremaining: 3m 25s\n",
      "32:\tlearn: 159.2918472\ttotal: 6.99s\tremaining: 3m 24s\n",
      "33:\tlearn: 159.2635857\ttotal: 7.2s\tremaining: 3m 24s\n",
      "34:\tlearn: 159.2248093\ttotal: 7.4s\tremaining: 3m 24s\n",
      "35:\tlearn: 159.1803904\ttotal: 7.61s\tremaining: 3m 23s\n",
      "36:\tlearn: 159.1598060\ttotal: 7.82s\tremaining: 3m 23s\n",
      "37:\tlearn: 159.1000987\ttotal: 8.03s\tremaining: 3m 23s\n",
      "38:\tlearn: 159.0808165\ttotal: 8.24s\tremaining: 3m 23s\n",
      "39:\tlearn: 159.0347892\ttotal: 8.46s\tremaining: 3m 22s\n",
      "40:\tlearn: 158.9885923\ttotal: 8.67s\tremaining: 3m 22s\n",
      "41:\tlearn: 158.9541504\ttotal: 8.88s\tremaining: 3m 22s\n",
      "42:\tlearn: 158.9220851\ttotal: 9.08s\tremaining: 3m 22s\n",
      "43:\tlearn: 158.9053710\ttotal: 9.29s\tremaining: 3m 21s\n",
      "44:\tlearn: 158.8759462\ttotal: 9.5s\tremaining: 3m 21s\n",
      "45:\tlearn: 158.8343802\ttotal: 9.7s\tremaining: 3m 21s\n",
      "46:\tlearn: 158.8086571\ttotal: 9.91s\tremaining: 3m 21s\n",
      "47:\tlearn: 158.7770423\ttotal: 10.1s\tremaining: 3m 20s\n",
      "48:\tlearn: 158.7467207\ttotal: 10.3s\tremaining: 3m 20s\n",
      "49:\tlearn: 158.7157148\ttotal: 10.5s\tremaining: 3m 20s\n",
      "50:\tlearn: 158.6799800\ttotal: 10.8s\tremaining: 3m 20s\n",
      "51:\tlearn: 158.6624332\ttotal: 11s\tremaining: 3m 19s\n",
      "52:\tlearn: 158.6149338\ttotal: 11.2s\tremaining: 3m 19s\n",
      "53:\tlearn: 158.5929721\ttotal: 11.4s\tremaining: 3m 19s\n",
      "54:\tlearn: 158.5638694\ttotal: 11.6s\tremaining: 3m 20s\n",
      "55:\tlearn: 158.5293297\ttotal: 11.9s\tremaining: 3m 19s\n",
      "56:\tlearn: 158.5156318\ttotal: 12.1s\tremaining: 3m 19s\n",
      "57:\tlearn: 158.4951474\ttotal: 12.3s\tremaining: 3m 19s\n",
      "58:\tlearn: 158.4745278\ttotal: 12.5s\tremaining: 3m 19s\n",
      "59:\tlearn: 158.4569017\ttotal: 12.7s\tremaining: 3m 18s\n",
      "60:\tlearn: 158.4362672\ttotal: 12.9s\tremaining: 3m 18s\n",
      "61:\tlearn: 158.4152710\ttotal: 13.1s\tremaining: 3m 18s\n",
      "62:\tlearn: 158.3924279\ttotal: 13.3s\tremaining: 3m 17s\n",
      "63:\tlearn: 158.3724066\ttotal: 13.5s\tremaining: 3m 17s\n",
      "64:\tlearn: 158.3247072\ttotal: 13.7s\tremaining: 3m 17s\n",
      "65:\tlearn: 158.3060003\ttotal: 13.9s\tremaining: 3m 17s\n",
      "66:\tlearn: 158.2881002\ttotal: 14.1s\tremaining: 3m 16s\n",
      "67:\tlearn: 158.2705492\ttotal: 14.3s\tremaining: 3m 16s\n",
      "68:\tlearn: 158.2318765\ttotal: 14.5s\tremaining: 3m 16s\n",
      "69:\tlearn: 158.2120362\ttotal: 14.8s\tremaining: 3m 15s\n",
      "70:\tlearn: 158.1878823\ttotal: 15s\tremaining: 3m 15s\n",
      "71:\tlearn: 158.1693373\ttotal: 15.2s\tremaining: 3m 15s\n",
      "72:\tlearn: 158.1292106\ttotal: 15.4s\tremaining: 3m 15s\n",
      "73:\tlearn: 158.0983105\ttotal: 15.6s\tremaining: 3m 14s\n",
      "74:\tlearn: 158.0640369\ttotal: 15.8s\tremaining: 3m 14s\n",
      "75:\tlearn: 158.0444704\ttotal: 16s\tremaining: 3m 14s\n",
      "76:\tlearn: 158.0130357\ttotal: 16.2s\tremaining: 3m 14s\n",
      "77:\tlearn: 157.9900320\ttotal: 16.5s\tremaining: 3m 15s\n",
      "78:\tlearn: 157.9676244\ttotal: 16.8s\tremaining: 3m 15s\n",
      "79:\tlearn: 157.9442027\ttotal: 17s\tremaining: 3m 15s\n",
      "80:\tlearn: 157.8955122\ttotal: 17.3s\tremaining: 3m 16s\n",
      "81:\tlearn: 157.8778972\ttotal: 17.5s\tremaining: 3m 15s\n",
      "82:\tlearn: 157.8317649\ttotal: 17.7s\tremaining: 3m 15s\n",
      "83:\tlearn: 157.7980825\ttotal: 17.9s\tremaining: 3m 15s\n",
      "84:\tlearn: 157.7669853\ttotal: 18.1s\tremaining: 3m 14s\n",
      "85:\tlearn: 157.7434626\ttotal: 18.3s\tremaining: 3m 14s\n",
      "86:\tlearn: 157.7045229\ttotal: 18.5s\tremaining: 3m 14s\n",
      "87:\tlearn: 157.6666982\ttotal: 18.7s\tremaining: 3m 14s\n",
      "88:\tlearn: 157.6487415\ttotal: 19s\tremaining: 3m 14s\n",
      "89:\tlearn: 157.6348260\ttotal: 19.2s\tremaining: 3m 13s\n",
      "90:\tlearn: 157.6178187\ttotal: 19.4s\tremaining: 3m 13s\n",
      "91:\tlearn: 157.5854281\ttotal: 19.6s\tremaining: 3m 13s\n",
      "92:\tlearn: 157.5626827\ttotal: 19.8s\tremaining: 3m 12s\n",
      "93:\tlearn: 157.5426915\ttotal: 20s\tremaining: 3m 12s\n",
      "94:\tlearn: 157.5115771\ttotal: 20.2s\tremaining: 3m 12s\n",
      "95:\tlearn: 157.4932057\ttotal: 20.4s\tremaining: 3m 12s\n",
      "96:\tlearn: 157.4717266\ttotal: 20.6s\tremaining: 3m 11s\n",
      "97:\tlearn: 157.4287727\ttotal: 20.8s\tremaining: 3m 11s\n",
      "98:\tlearn: 157.4114794\ttotal: 21s\tremaining: 3m 11s\n",
      "99:\tlearn: 157.3804911\ttotal: 21.2s\tremaining: 3m 11s\n",
      "100:\tlearn: 157.3564254\ttotal: 21.4s\tremaining: 3m 10s\n",
      "101:\tlearn: 157.3383066\ttotal: 21.7s\tremaining: 3m 10s\n",
      "102:\tlearn: 157.3212454\ttotal: 21.9s\tremaining: 3m 10s\n",
      "103:\tlearn: 157.3105541\ttotal: 22.1s\tremaining: 3m 10s\n",
      "104:\tlearn: 157.2812384\ttotal: 22.3s\tremaining: 3m 9s\n",
      "105:\tlearn: 157.2662613\ttotal: 22.5s\tremaining: 3m 10s\n",
      "106:\tlearn: 157.2396412\ttotal: 22.8s\tremaining: 3m 10s\n",
      "107:\tlearn: 157.2098253\ttotal: 23s\tremaining: 3m 9s\n",
      "108:\tlearn: 157.1959705\ttotal: 23.2s\tremaining: 3m 9s\n",
      "109:\tlearn: 157.1828555\ttotal: 23.4s\tremaining: 3m 9s\n",
      "110:\tlearn: 157.1657361\ttotal: 23.6s\tremaining: 3m 9s\n",
      "111:\tlearn: 157.1509297\ttotal: 23.8s\tremaining: 3m 8s\n",
      "112:\tlearn: 157.1164347\ttotal: 24s\tremaining: 3m 8s\n",
      "113:\tlearn: 157.1044819\ttotal: 24.2s\tremaining: 3m 8s\n",
      "114:\tlearn: 157.0638178\ttotal: 24.4s\tremaining: 3m 8s\n",
      "115:\tlearn: 157.0435722\ttotal: 24.7s\tremaining: 3m 7s\n",
      "116:\tlearn: 157.0260806\ttotal: 24.9s\tremaining: 3m 7s\n",
      "117:\tlearn: 157.0073448\ttotal: 25.1s\tremaining: 3m 7s\n",
      "118:\tlearn: 156.9912926\ttotal: 25.3s\tremaining: 3m 7s\n",
      "119:\tlearn: 156.9761649\ttotal: 25.5s\tremaining: 3m 6s\n",
      "120:\tlearn: 156.9614638\ttotal: 25.7s\tremaining: 3m 6s\n",
      "121:\tlearn: 156.9353790\ttotal: 25.9s\tremaining: 3m 6s\n",
      "122:\tlearn: 156.9136137\ttotal: 26.1s\tremaining: 3m 6s\n",
      "123:\tlearn: 156.9012614\ttotal: 26.3s\tremaining: 3m 6s\n",
      "124:\tlearn: 156.8838363\ttotal: 26.6s\tremaining: 3m 5s\n",
      "125:\tlearn: 156.8634049\ttotal: 27s\tremaining: 3m 7s\n",
      "126:\tlearn: 156.8483639\ttotal: 27.3s\tremaining: 3m 7s\n",
      "127:\tlearn: 156.8365386\ttotal: 27.8s\tremaining: 3m 9s\n",
      "128:\tlearn: 156.8182124\ttotal: 28s\tremaining: 3m 9s\n",
      "129:\tlearn: 156.7945405\ttotal: 28.3s\tremaining: 3m 9s\n",
      "130:\tlearn: 156.7835820\ttotal: 28.5s\tremaining: 3m 8s\n",
      "131:\tlearn: 156.7680402\ttotal: 28.7s\tremaining: 3m 8s\n",
      "132:\tlearn: 156.7549136\ttotal: 28.9s\tremaining: 3m 8s\n",
      "133:\tlearn: 156.7429925\ttotal: 29.1s\tremaining: 3m 8s\n",
      "134:\tlearn: 156.7251134\ttotal: 29.3s\tremaining: 3m 7s\n",
      "135:\tlearn: 156.6976574\ttotal: 29.5s\tremaining: 3m 7s\n",
      "136:\tlearn: 156.6716393\ttotal: 29.7s\tremaining: 3m 7s\n",
      "137:\tlearn: 156.6573221\ttotal: 29.9s\tremaining: 3m 7s\n",
      "138:\tlearn: 156.6384100\ttotal: 30.2s\tremaining: 3m 6s\n",
      "139:\tlearn: 156.6251302\ttotal: 30.4s\tremaining: 3m 6s\n",
      "140:\tlearn: 156.6118200\ttotal: 30.6s\tremaining: 3m 6s\n",
      "141:\tlearn: 156.5969619\ttotal: 30.8s\tremaining: 3m 6s\n",
      "142:\tlearn: 156.5823417\ttotal: 31s\tremaining: 3m 5s\n",
      "143:\tlearn: 156.5703403\ttotal: 31.2s\tremaining: 3m 5s\n",
      "144:\tlearn: 156.5412515\ttotal: 31.4s\tremaining: 3m 5s\n",
      "145:\tlearn: 156.5228080\ttotal: 31.6s\tremaining: 3m 5s\n",
      "146:\tlearn: 156.4761810\ttotal: 31.8s\tremaining: 3m 4s\n",
      "147:\tlearn: 156.4582167\ttotal: 32.1s\tremaining: 3m 4s\n",
      "148:\tlearn: 156.4369519\ttotal: 32.3s\tremaining: 3m 4s\n",
      "149:\tlearn: 156.4254666\ttotal: 32.5s\tremaining: 3m 4s\n",
      "150:\tlearn: 156.4101340\ttotal: 32.7s\tremaining: 3m 3s\n",
      "151:\tlearn: 156.3992397\ttotal: 32.9s\tremaining: 3m 3s\n",
      "152:\tlearn: 156.3867093\ttotal: 33.1s\tremaining: 3m 3s\n",
      "153:\tlearn: 156.3638001\ttotal: 33.3s\tremaining: 3m 3s\n",
      "154:\tlearn: 156.3517571\ttotal: 33.6s\tremaining: 3m 3s\n",
      "155:\tlearn: 156.3360452\ttotal: 33.8s\tremaining: 3m 2s\n",
      "156:\tlearn: 156.3110853\ttotal: 34s\tremaining: 3m 2s\n",
      "157:\tlearn: 156.2960555\ttotal: 34.2s\tremaining: 3m 2s\n",
      "158:\tlearn: 156.2754274\ttotal: 34.4s\tremaining: 3m 2s\n",
      "159:\tlearn: 156.2596404\ttotal: 34.6s\tremaining: 3m 1s\n",
      "160:\tlearn: 156.2460404\ttotal: 34.8s\tremaining: 3m 1s\n",
      "161:\tlearn: 156.2084596\ttotal: 35s\tremaining: 3m 1s\n",
      "162:\tlearn: 156.1916781\ttotal: 35.3s\tremaining: 3m 1s\n",
      "163:\tlearn: 156.1507404\ttotal: 35.5s\tremaining: 3m\n",
      "164:\tlearn: 156.1295584\ttotal: 35.7s\tremaining: 3m\n",
      "165:\tlearn: 156.0901148\ttotal: 35.9s\tremaining: 3m\n",
      "166:\tlearn: 156.0731821\ttotal: 36.1s\tremaining: 3m\n",
      "167:\tlearn: 156.0605551\ttotal: 36.3s\tremaining: 2m 59s\n",
      "168:\tlearn: 156.0403942\ttotal: 36.5s\tremaining: 2m 59s\n",
      "169:\tlearn: 156.0214738\ttotal: 36.7s\tremaining: 2m 59s\n",
      "170:\tlearn: 155.9933026\ttotal: 36.9s\tremaining: 2m 58s\n",
      "171:\tlearn: 155.9747726\ttotal: 37.1s\tremaining: 2m 58s\n",
      "172:\tlearn: 155.9550571\ttotal: 37.3s\tremaining: 2m 58s\n",
      "173:\tlearn: 155.9363313\ttotal: 37.5s\tremaining: 2m 58s\n",
      "174:\tlearn: 155.9187902\ttotal: 37.7s\tremaining: 2m 57s\n",
      "175:\tlearn: 155.8709583\ttotal: 38s\tremaining: 2m 57s\n",
      "176:\tlearn: 155.8578015\ttotal: 38.2s\tremaining: 2m 57s\n",
      "177:\tlearn: 155.8249013\ttotal: 38.4s\tremaining: 2m 57s\n",
      "178:\tlearn: 155.7882091\ttotal: 38.6s\tremaining: 2m 56s\n",
      "179:\tlearn: 155.7618372\ttotal: 38.8s\tremaining: 2m 56s\n",
      "180:\tlearn: 155.7405662\ttotal: 39s\tremaining: 2m 56s\n",
      "181:\tlearn: 155.7227306\ttotal: 39.2s\tremaining: 2m 56s\n",
      "182:\tlearn: 155.6938635\ttotal: 39.4s\tremaining: 2m 55s\n",
      "183:\tlearn: 155.6776887\ttotal: 39.6s\tremaining: 2m 55s\n",
      "184:\tlearn: 155.6621602\ttotal: 39.8s\tremaining: 2m 55s\n",
      "185:\tlearn: 155.6433675\ttotal: 40s\tremaining: 2m 55s\n",
      "186:\tlearn: 155.6244751\ttotal: 40.2s\tremaining: 2m 54s\n",
      "187:\tlearn: 155.6040632\ttotal: 40.4s\tremaining: 2m 54s\n",
      "188:\tlearn: 155.5869477\ttotal: 40.6s\tremaining: 2m 54s\n",
      "189:\tlearn: 155.5730345\ttotal: 40.9s\tremaining: 2m 54s\n",
      "190:\tlearn: 155.5572959\ttotal: 41.1s\tremaining: 2m 53s\n",
      "191:\tlearn: 155.5301939\ttotal: 41.3s\tremaining: 2m 53s\n",
      "192:\tlearn: 155.5083345\ttotal: 41.5s\tremaining: 2m 53s\n",
      "193:\tlearn: 155.4956111\ttotal: 41.7s\tremaining: 2m 53s\n",
      "194:\tlearn: 155.4783266\ttotal: 41.9s\tremaining: 2m 52s\n",
      "195:\tlearn: 155.4552012\ttotal: 42.1s\tremaining: 2m 52s\n",
      "196:\tlearn: 155.4412728\ttotal: 42.3s\tremaining: 2m 52s\n",
      "197:\tlearn: 155.4277614\ttotal: 42.5s\tremaining: 2m 52s\n",
      "198:\tlearn: 155.4149001\ttotal: 42.7s\tremaining: 2m 51s\n",
      "199:\tlearn: 155.3868457\ttotal: 42.9s\tremaining: 2m 51s\n",
      "200:\tlearn: 155.3724513\ttotal: 43.1s\tremaining: 2m 51s\n",
      "201:\tlearn: 155.3548194\ttotal: 43.3s\tremaining: 2m 51s\n",
      "202:\tlearn: 155.3429683\ttotal: 43.6s\tremaining: 2m 51s\n",
      "203:\tlearn: 155.3223887\ttotal: 43.8s\tremaining: 2m 50s\n",
      "204:\tlearn: 155.2988618\ttotal: 44s\tremaining: 2m 50s\n",
      "205:\tlearn: 155.2767652\ttotal: 44.2s\tremaining: 2m 50s\n",
      "206:\tlearn: 155.2450895\ttotal: 44.4s\tremaining: 2m 50s\n",
      "207:\tlearn: 155.2276842\ttotal: 44.7s\tremaining: 2m 50s\n",
      "208:\tlearn: 155.1977867\ttotal: 44.9s\tremaining: 2m 49s\n",
      "209:\tlearn: 155.1771652\ttotal: 45.1s\tremaining: 2m 49s\n",
      "210:\tlearn: 155.1452072\ttotal: 45.3s\tremaining: 2m 49s\n",
      "211:\tlearn: 155.1342131\ttotal: 45.5s\tremaining: 2m 49s\n",
      "212:\tlearn: 155.1213004\ttotal: 45.7s\tremaining: 2m 48s\n",
      "213:\tlearn: 155.0981670\ttotal: 45.9s\tremaining: 2m 48s\n",
      "214:\tlearn: 155.0807427\ttotal: 46.1s\tremaining: 2m 48s\n",
      "215:\tlearn: 155.0599503\ttotal: 46.3s\tremaining: 2m 48s\n",
      "216:\tlearn: 155.0388703\ttotal: 46.5s\tremaining: 2m 47s\n",
      "217:\tlearn: 155.0257625\ttotal: 46.7s\tremaining: 2m 47s\n",
      "218:\tlearn: 155.0120828\ttotal: 46.9s\tremaining: 2m 47s\n",
      "219:\tlearn: 154.9956772\ttotal: 47.1s\tremaining: 2m 47s\n",
      "220:\tlearn: 154.9811020\ttotal: 47.4s\tremaining: 2m 46s\n",
      "221:\tlearn: 154.9641684\ttotal: 47.6s\tremaining: 2m 46s\n",
      "222:\tlearn: 154.9506402\ttotal: 47.8s\tremaining: 2m 46s\n",
      "223:\tlearn: 154.9227503\ttotal: 48s\tremaining: 2m 46s\n",
      "224:\tlearn: 154.9126546\ttotal: 48.2s\tremaining: 2m 45s\n",
      "225:\tlearn: 154.8916507\ttotal: 48.4s\tremaining: 2m 45s\n",
      "226:\tlearn: 154.8751610\ttotal: 48.6s\tremaining: 2m 45s\n",
      "227:\tlearn: 154.8613802\ttotal: 48.8s\tremaining: 2m 45s\n",
      "228:\tlearn: 154.8467116\ttotal: 49.1s\tremaining: 2m 45s\n",
      "229:\tlearn: 154.8269494\ttotal: 49.4s\tremaining: 2m 45s\n",
      "230:\tlearn: 154.8080893\ttotal: 49.6s\tremaining: 2m 45s\n",
      "231:\tlearn: 154.7913734\ttotal: 49.9s\tremaining: 2m 45s\n",
      "232:\tlearn: 154.7754657\ttotal: 50.1s\tremaining: 2m 45s\n",
      "233:\tlearn: 154.7587270\ttotal: 50.3s\tremaining: 2m 44s\n",
      "234:\tlearn: 154.7415978\ttotal: 50.6s\tremaining: 2m 44s\n",
      "235:\tlearn: 154.7182176\ttotal: 50.8s\tremaining: 2m 44s\n",
      "236:\tlearn: 154.6958375\ttotal: 51s\tremaining: 2m 44s\n",
      "237:\tlearn: 154.6602148\ttotal: 51.2s\tremaining: 2m 43s\n",
      "238:\tlearn: 154.6441162\ttotal: 51.4s\tremaining: 2m 43s\n",
      "239:\tlearn: 154.6266009\ttotal: 51.6s\tremaining: 2m 43s\n",
      "240:\tlearn: 154.6067503\ttotal: 51.8s\tremaining: 2m 43s\n",
      "241:\tlearn: 154.5917291\ttotal: 52s\tremaining: 2m 42s\n",
      "242:\tlearn: 154.5774833\ttotal: 52.2s\tremaining: 2m 42s\n",
      "243:\tlearn: 154.5604869\ttotal: 52.4s\tremaining: 2m 42s\n",
      "244:\tlearn: 154.5430060\ttotal: 52.7s\tremaining: 2m 42s\n",
      "245:\tlearn: 154.5229788\ttotal: 52.9s\tremaining: 2m 42s\n",
      "246:\tlearn: 154.5023465\ttotal: 53.1s\tremaining: 2m 41s\n",
      "247:\tlearn: 154.4863726\ttotal: 53.3s\tremaining: 2m 41s\n",
      "248:\tlearn: 154.4678187\ttotal: 53.5s\tremaining: 2m 41s\n",
      "249:\tlearn: 154.4481149\ttotal: 53.7s\tremaining: 2m 41s\n",
      "250:\tlearn: 154.4224419\ttotal: 53.9s\tremaining: 2m 40s\n",
      "251:\tlearn: 154.4066110\ttotal: 54.1s\tremaining: 2m 40s\n",
      "252:\tlearn: 154.3635669\ttotal: 54.3s\tremaining: 2m 40s\n",
      "253:\tlearn: 154.3451604\ttotal: 54.5s\tremaining: 2m 40s\n",
      "254:\tlearn: 154.3212923\ttotal: 54.8s\tremaining: 2m 39s\n",
      "255:\tlearn: 154.2730027\ttotal: 55s\tremaining: 2m 39s\n",
      "256:\tlearn: 154.2409413\ttotal: 55.2s\tremaining: 2m 39s\n",
      "257:\tlearn: 154.2246710\ttotal: 55.4s\tremaining: 2m 39s\n",
      "258:\tlearn: 154.2051932\ttotal: 55.7s\tremaining: 2m 39s\n",
      "259:\tlearn: 154.1895186\ttotal: 55.9s\tremaining: 2m 39s\n",
      "260:\tlearn: 154.1701866\ttotal: 56.1s\tremaining: 2m 38s\n",
      "261:\tlearn: 154.1542124\ttotal: 56.3s\tremaining: 2m 38s\n",
      "262:\tlearn: 154.1343461\ttotal: 56.5s\tremaining: 2m 38s\n",
      "263:\tlearn: 154.1154685\ttotal: 56.8s\tremaining: 2m 38s\n",
      "264:\tlearn: 154.0967559\ttotal: 57s\tremaining: 2m 38s\n",
      "265:\tlearn: 154.0799199\ttotal: 57.2s\tremaining: 2m 37s\n",
      "266:\tlearn: 154.0477304\ttotal: 57.4s\tremaining: 2m 37s\n",
      "267:\tlearn: 154.0317015\ttotal: 57.6s\tremaining: 2m 37s\n",
      "268:\tlearn: 154.0080516\ttotal: 57.8s\tremaining: 2m 37s\n",
      "269:\tlearn: 153.9749843\ttotal: 58s\tremaining: 2m 36s\n",
      "270:\tlearn: 153.9560700\ttotal: 58.3s\tremaining: 2m 36s\n",
      "271:\tlearn: 153.9402254\ttotal: 58.5s\tremaining: 2m 36s\n",
      "272:\tlearn: 153.9046395\ttotal: 58.7s\tremaining: 2m 36s\n",
      "273:\tlearn: 153.8898006\ttotal: 58.9s\tremaining: 2m 36s\n",
      "274:\tlearn: 153.8691297\ttotal: 59.1s\tremaining: 2m 35s\n",
      "275:\tlearn: 153.8522855\ttotal: 59.3s\tremaining: 2m 35s\n",
      "276:\tlearn: 153.8283125\ttotal: 59.5s\tremaining: 2m 35s\n",
      "277:\tlearn: 153.8065473\ttotal: 59.7s\tremaining: 2m 35s\n",
      "278:\tlearn: 153.7859948\ttotal: 59.9s\tremaining: 2m 34s\n",
      "279:\tlearn: 153.7705724\ttotal: 1m\tremaining: 2m 34s\n",
      "280:\tlearn: 153.7546157\ttotal: 1m\tremaining: 2m 34s\n",
      "281:\tlearn: 153.7307310\ttotal: 1m\tremaining: 2m 34s\n",
      "282:\tlearn: 153.7099397\ttotal: 1m\tremaining: 2m 33s\n",
      "283:\tlearn: 153.6790185\ttotal: 1m\tremaining: 2m 33s\n",
      "284:\tlearn: 153.6539419\ttotal: 1m 1s\tremaining: 2m 33s\n",
      "285:\tlearn: 153.6310926\ttotal: 1m 1s\tremaining: 2m 33s\n",
      "286:\tlearn: 153.6144658\ttotal: 1m 1s\tremaining: 2m 33s\n",
      "287:\tlearn: 153.5890000\ttotal: 1m 1s\tremaining: 2m 32s\n",
      "288:\tlearn: 153.5603288\ttotal: 1m 2s\tremaining: 2m 32s\n",
      "289:\tlearn: 153.5383288\ttotal: 1m 2s\tremaining: 2m 32s\n",
      "290:\tlearn: 153.5170967\ttotal: 1m 2s\tremaining: 2m 32s\n",
      "291:\tlearn: 153.4975755\ttotal: 1m 2s\tremaining: 2m 31s\n",
      "292:\tlearn: 153.4541690\ttotal: 1m 2s\tremaining: 2m 31s\n",
      "293:\tlearn: 153.4368831\ttotal: 1m 3s\tremaining: 2m 31s\n",
      "294:\tlearn: 153.4158247\ttotal: 1m 3s\tremaining: 2m 31s\n",
      "295:\tlearn: 153.3902026\ttotal: 1m 3s\tremaining: 2m 30s\n",
      "296:\tlearn: 153.3679527\ttotal: 1m 3s\tremaining: 2m 30s\n",
      "297:\tlearn: 153.3336073\ttotal: 1m 3s\tremaining: 2m 30s\n",
      "298:\tlearn: 153.3107356\ttotal: 1m 4s\tremaining: 2m 30s\n",
      "299:\tlearn: 153.2838925\ttotal: 1m 4s\tremaining: 2m 30s\n",
      "300:\tlearn: 153.2621253\ttotal: 1m 4s\tremaining: 2m 29s\n",
      "301:\tlearn: 153.2270540\ttotal: 1m 4s\tremaining: 2m 29s\n",
      "302:\tlearn: 153.2091792\ttotal: 1m 4s\tremaining: 2m 29s\n",
      "303:\tlearn: 153.1908447\ttotal: 1m 5s\tremaining: 2m 29s\n",
      "304:\tlearn: 153.1683183\ttotal: 1m 5s\tremaining: 2m 28s\n",
      "305:\tlearn: 153.1287919\ttotal: 1m 5s\tremaining: 2m 28s\n",
      "306:\tlearn: 153.1053491\ttotal: 1m 5s\tremaining: 2m 28s\n",
      "307:\tlearn: 153.0845326\ttotal: 1m 5s\tremaining: 2m 28s\n",
      "308:\tlearn: 153.0631359\ttotal: 1m 6s\tremaining: 2m 27s\n",
      "309:\tlearn: 153.0400817\ttotal: 1m 6s\tremaining: 2m 27s\n",
      "310:\tlearn: 153.0204845\ttotal: 1m 6s\tremaining: 2m 27s\n",
      "311:\tlearn: 152.9950249\ttotal: 1m 6s\tremaining: 2m 27s\n",
      "312:\tlearn: 152.9752745\ttotal: 1m 6s\tremaining: 2m 27s\n",
      "313:\tlearn: 152.9532854\ttotal: 1m 7s\tremaining: 2m 26s\n",
      "314:\tlearn: 152.9274945\ttotal: 1m 7s\tremaining: 2m 26s\n",
      "315:\tlearn: 152.9066944\ttotal: 1m 7s\tremaining: 2m 26s\n",
      "316:\tlearn: 152.8839299\ttotal: 1m 7s\tremaining: 2m 26s\n",
      "317:\tlearn: 152.8563480\ttotal: 1m 8s\tremaining: 2m 25s\n",
      "318:\tlearn: 152.8349581\ttotal: 1m 8s\tremaining: 2m 25s\n",
      "319:\tlearn: 152.8044342\ttotal: 1m 8s\tremaining: 2m 25s\n",
      "320:\tlearn: 152.7787792\ttotal: 1m 8s\tremaining: 2m 25s\n",
      "321:\tlearn: 152.7562684\ttotal: 1m 8s\tremaining: 2m 24s\n",
      "322:\tlearn: 152.7144807\ttotal: 1m 9s\tremaining: 2m 24s\n",
      "323:\tlearn: 152.6911188\ttotal: 1m 9s\tremaining: 2m 24s\n",
      "324:\tlearn: 152.6708301\ttotal: 1m 9s\tremaining: 2m 24s\n",
      "325:\tlearn: 152.6157353\ttotal: 1m 9s\tremaining: 2m 24s\n",
      "326:\tlearn: 152.5831067\ttotal: 1m 9s\tremaining: 2m 23s\n",
      "327:\tlearn: 152.5603741\ttotal: 1m 10s\tremaining: 2m 23s\n",
      "328:\tlearn: 152.5385745\ttotal: 1m 10s\tremaining: 2m 23s\n",
      "329:\tlearn: 152.5120243\ttotal: 1m 10s\tremaining: 2m 23s\n",
      "330:\tlearn: 152.4903489\ttotal: 1m 10s\tremaining: 2m 22s\n",
      "331:\tlearn: 152.4684676\ttotal: 1m 10s\tremaining: 2m 22s\n",
      "332:\tlearn: 152.4475679\ttotal: 1m 11s\tremaining: 2m 22s\n",
      "333:\tlearn: 152.4017029\ttotal: 1m 11s\tremaining: 2m 22s\n",
      "334:\tlearn: 152.3783450\ttotal: 1m 11s\tremaining: 2m 21s\n",
      "335:\tlearn: 152.3556057\ttotal: 1m 11s\tremaining: 2m 21s\n",
      "336:\tlearn: 152.3149330\ttotal: 1m 11s\tremaining: 2m 21s\n",
      "337:\tlearn: 152.2577489\ttotal: 1m 12s\tremaining: 2m 21s\n",
      "338:\tlearn: 152.2342370\ttotal: 1m 12s\tremaining: 2m 21s\n",
      "339:\tlearn: 152.2125908\ttotal: 1m 12s\tremaining: 2m 20s\n",
      "340:\tlearn: 152.1857715\ttotal: 1m 12s\tremaining: 2m 20s\n",
      "341:\tlearn: 152.1553521\ttotal: 1m 12s\tremaining: 2m 20s\n",
      "342:\tlearn: 152.1002110\ttotal: 1m 13s\tremaining: 2m 20s\n",
      "343:\tlearn: 152.0768047\ttotal: 1m 13s\tremaining: 2m 19s\n",
      "344:\tlearn: 152.0381437\ttotal: 1m 13s\tremaining: 2m 19s\n",
      "345:\tlearn: 152.0170728\ttotal: 1m 13s\tremaining: 2m 19s\n",
      "346:\tlearn: 151.9980798\ttotal: 1m 14s\tremaining: 2m 19s\n",
      "347:\tlearn: 151.9749878\ttotal: 1m 14s\tremaining: 2m 19s\n",
      "348:\tlearn: 151.9396603\ttotal: 1m 14s\tremaining: 2m 18s\n",
      "349:\tlearn: 151.8994136\ttotal: 1m 14s\tremaining: 2m 18s\n",
      "350:\tlearn: 151.8461442\ttotal: 1m 14s\tremaining: 2m 18s\n",
      "351:\tlearn: 151.7958739\ttotal: 1m 15s\tremaining: 2m 18s\n",
      "352:\tlearn: 151.7732759\ttotal: 1m 15s\tremaining: 2m 17s\n",
      "353:\tlearn: 151.7410104\ttotal: 1m 15s\tremaining: 2m 17s\n",
      "354:\tlearn: 151.7180280\ttotal: 1m 15s\tremaining: 2m 17s\n",
      "355:\tlearn: 151.6620988\ttotal: 1m 15s\tremaining: 2m 17s\n",
      "356:\tlearn: 151.6397162\ttotal: 1m 16s\tremaining: 2m 17s\n",
      "357:\tlearn: 151.6171953\ttotal: 1m 16s\tremaining: 2m 16s\n",
      "358:\tlearn: 151.5955589\ttotal: 1m 16s\tremaining: 2m 16s\n",
      "359:\tlearn: 151.5679699\ttotal: 1m 16s\tremaining: 2m 16s\n",
      "360:\tlearn: 151.5461149\ttotal: 1m 16s\tremaining: 2m 16s\n",
      "361:\tlearn: 151.4985422\ttotal: 1m 17s\tremaining: 2m 15s\n",
      "362:\tlearn: 151.4767429\ttotal: 1m 17s\tremaining: 2m 15s\n",
      "363:\tlearn: 151.4348790\ttotal: 1m 17s\tremaining: 2m 15s\n",
      "364:\tlearn: 151.3824302\ttotal: 1m 17s\tremaining: 2m 15s\n",
      "365:\tlearn: 151.3620192\ttotal: 1m 18s\tremaining: 2m 15s\n",
      "366:\tlearn: 151.3080402\ttotal: 1m 18s\tremaining: 2m 14s\n",
      "367:\tlearn: 151.2716542\ttotal: 1m 18s\tremaining: 2m 14s\n",
      "368:\tlearn: 151.2426223\ttotal: 1m 18s\tremaining: 2m 14s\n",
      "369:\tlearn: 151.1915241\ttotal: 1m 18s\tremaining: 2m 14s\n",
      "370:\tlearn: 151.1478934\ttotal: 1m 19s\tremaining: 2m 14s\n",
      "371:\tlearn: 151.1261182\ttotal: 1m 19s\tremaining: 2m 13s\n",
      "372:\tlearn: 151.0965445\ttotal: 1m 19s\tremaining: 2m 13s\n",
      "373:\tlearn: 151.0526600\ttotal: 1m 19s\tremaining: 2m 13s\n",
      "374:\tlearn: 151.0298182\ttotal: 1m 19s\tremaining: 2m 13s\n",
      "375:\tlearn: 151.0081605\ttotal: 1m 20s\tremaining: 2m 12s\n",
      "376:\tlearn: 150.9608714\ttotal: 1m 20s\tremaining: 2m 12s\n",
      "377:\tlearn: 150.9380872\ttotal: 1m 20s\tremaining: 2m 12s\n",
      "378:\tlearn: 150.9163484\ttotal: 1m 20s\tremaining: 2m 12s\n",
      "379:\tlearn: 150.8941239\ttotal: 1m 20s\tremaining: 2m 12s\n",
      "380:\tlearn: 150.8715717\ttotal: 1m 21s\tremaining: 2m 11s\n",
      "381:\tlearn: 150.8497491\ttotal: 1m 21s\tremaining: 2m 11s\n",
      "382:\tlearn: 150.8108190\ttotal: 1m 21s\tremaining: 2m 11s\n",
      "383:\tlearn: 150.7535529\ttotal: 1m 21s\tremaining: 2m 11s\n",
      "384:\tlearn: 150.7266954\ttotal: 1m 21s\tremaining: 2m 10s\n",
      "385:\tlearn: 150.6757629\ttotal: 1m 22s\tremaining: 2m 10s\n",
      "386:\tlearn: 150.6559491\ttotal: 1m 22s\tremaining: 2m 10s\n",
      "387:\tlearn: 150.6155297\ttotal: 1m 22s\tremaining: 2m 10s\n",
      "388:\tlearn: 150.5952907\ttotal: 1m 23s\tremaining: 2m 10s\n",
      "389:\tlearn: 150.5390208\ttotal: 1m 23s\tremaining: 2m 10s\n",
      "390:\tlearn: 150.5189303\ttotal: 1m 23s\tremaining: 2m 9s\n",
      "391:\tlearn: 150.4628356\ttotal: 1m 23s\tremaining: 2m 9s\n",
      "392:\tlearn: 150.4390574\ttotal: 1m 23s\tremaining: 2m 9s\n",
      "393:\tlearn: 150.3738997\ttotal: 1m 24s\tremaining: 2m 9s\n",
      "394:\tlearn: 150.3525509\ttotal: 1m 24s\tremaining: 2m 9s\n",
      "395:\tlearn: 150.3058944\ttotal: 1m 24s\tremaining: 2m 8s\n",
      "396:\tlearn: 150.2615270\ttotal: 1m 24s\tremaining: 2m 8s\n",
      "397:\tlearn: 150.2341795\ttotal: 1m 24s\tremaining: 2m 8s\n",
      "398:\tlearn: 150.2001068\ttotal: 1m 25s\tremaining: 2m 8s\n",
      "399:\tlearn: 150.1792436\ttotal: 1m 25s\tremaining: 2m 8s\n",
      "400:\tlearn: 150.1500290\ttotal: 1m 25s\tremaining: 2m 7s\n",
      "401:\tlearn: 150.0906985\ttotal: 1m 25s\tremaining: 2m 7s\n",
      "402:\tlearn: 150.0539384\ttotal: 1m 25s\tremaining: 2m 7s\n",
      "403:\tlearn: 150.0326092\ttotal: 1m 26s\tremaining: 2m 7s\n",
      "404:\tlearn: 150.0129868\ttotal: 1m 26s\tremaining: 2m 6s\n",
      "405:\tlearn: 149.9920080\ttotal: 1m 26s\tremaining: 2m 6s\n",
      "406:\tlearn: 149.9320681\ttotal: 1m 26s\tremaining: 2m 6s\n",
      "407:\tlearn: 149.8837962\ttotal: 1m 27s\tremaining: 2m 6s\n",
      "408:\tlearn: 149.8587002\ttotal: 1m 27s\tremaining: 2m 6s\n",
      "409:\tlearn: 149.8247701\ttotal: 1m 27s\tremaining: 2m 5s\n",
      "410:\tlearn: 149.7764124\ttotal: 1m 27s\tremaining: 2m 5s\n",
      "411:\tlearn: 149.7504872\ttotal: 1m 27s\tremaining: 2m 5s\n",
      "412:\tlearn: 149.7243178\ttotal: 1m 28s\tremaining: 2m 5s\n",
      "413:\tlearn: 149.6943839\ttotal: 1m 28s\tremaining: 2m 4s\n",
      "414:\tlearn: 149.6740191\ttotal: 1m 28s\tremaining: 2m 4s\n",
      "415:\tlearn: 149.6544705\ttotal: 1m 28s\tremaining: 2m 4s\n",
      "416:\tlearn: 149.5975634\ttotal: 1m 28s\tremaining: 2m 4s\n",
      "417:\tlearn: 149.5493879\ttotal: 1m 29s\tremaining: 2m 4s\n",
      "418:\tlearn: 149.5300927\ttotal: 1m 29s\tremaining: 2m 3s\n",
      "419:\tlearn: 149.5105122\ttotal: 1m 29s\tremaining: 2m 3s\n",
      "420:\tlearn: 149.4701136\ttotal: 1m 29s\tremaining: 2m 3s\n",
      "421:\tlearn: 149.4497212\ttotal: 1m 29s\tremaining: 2m 3s\n",
      "422:\tlearn: 149.4181532\ttotal: 1m 30s\tremaining: 2m 2s\n",
      "423:\tlearn: 149.3977863\ttotal: 1m 30s\tremaining: 2m 2s\n",
      "424:\tlearn: 149.3704961\ttotal: 1m 30s\tremaining: 2m 2s\n",
      "425:\tlearn: 149.3420353\ttotal: 1m 30s\tremaining: 2m 2s\n",
      "426:\tlearn: 149.2948658\ttotal: 1m 30s\tremaining: 2m 2s\n",
      "427:\tlearn: 149.2745146\ttotal: 1m 31s\tremaining: 2m 1s\n",
      "428:\tlearn: 149.2263829\ttotal: 1m 31s\tremaining: 2m 1s\n",
      "429:\tlearn: 149.2066500\ttotal: 1m 31s\tremaining: 2m 1s\n",
      "430:\tlearn: 149.1767638\ttotal: 1m 31s\tremaining: 2m 1s\n",
      "431:\tlearn: 149.1450245\ttotal: 1m 32s\tremaining: 2m 1s\n",
      "432:\tlearn: 149.0958001\ttotal: 1m 32s\tremaining: 2m\n",
      "433:\tlearn: 149.0762710\ttotal: 1m 32s\tremaining: 2m\n",
      "434:\tlearn: 149.0281372\ttotal: 1m 32s\tremaining: 2m\n",
      "435:\tlearn: 148.9897361\ttotal: 1m 32s\tremaining: 2m\n",
      "436:\tlearn: 148.9703462\ttotal: 1m 33s\tremaining: 2m\n",
      "437:\tlearn: 148.9502812\ttotal: 1m 33s\tremaining: 1m 59s\n",
      "438:\tlearn: 148.9110134\ttotal: 1m 33s\tremaining: 1m 59s\n",
      "439:\tlearn: 148.8660103\ttotal: 1m 33s\tremaining: 1m 59s\n",
      "440:\tlearn: 148.8395102\ttotal: 1m 33s\tremaining: 1m 59s\n",
      "441:\tlearn: 148.7988157\ttotal: 1m 34s\tremaining: 1m 58s\n",
      "442:\tlearn: 148.7804574\ttotal: 1m 34s\tremaining: 1m 58s\n",
      "443:\tlearn: 148.7436731\ttotal: 1m 34s\tremaining: 1m 58s\n",
      "444:\tlearn: 148.7243396\ttotal: 1m 34s\tremaining: 1m 58s\n",
      "445:\tlearn: 148.6782620\ttotal: 1m 35s\tremaining: 1m 58s\n",
      "446:\tlearn: 148.6583628\ttotal: 1m 35s\tremaining: 1m 57s\n",
      "447:\tlearn: 148.6275398\ttotal: 1m 35s\tremaining: 1m 57s\n",
      "448:\tlearn: 148.5980344\ttotal: 1m 35s\tremaining: 1m 57s\n",
      "449:\tlearn: 148.5782659\ttotal: 1m 35s\tremaining: 1m 57s\n",
      "450:\tlearn: 148.5594472\ttotal: 1m 36s\tremaining: 1m 56s\n",
      "451:\tlearn: 148.5397938\ttotal: 1m 36s\tremaining: 1m 56s\n",
      "452:\tlearn: 148.5210457\ttotal: 1m 36s\tremaining: 1m 56s\n",
      "453:\tlearn: 148.5014188\ttotal: 1m 36s\tremaining: 1m 56s\n",
      "454:\tlearn: 148.4653060\ttotal: 1m 36s\tremaining: 1m 56s\n",
      "455:\tlearn: 148.4072380\ttotal: 1m 37s\tremaining: 1m 55s\n",
      "456:\tlearn: 148.3800076\ttotal: 1m 37s\tremaining: 1m 55s\n",
      "457:\tlearn: 148.3607896\ttotal: 1m 37s\tremaining: 1m 55s\n",
      "458:\tlearn: 148.3419203\ttotal: 1m 37s\tremaining: 1m 55s\n",
      "459:\tlearn: 148.2877015\ttotal: 1m 37s\tremaining: 1m 54s\n",
      "460:\tlearn: 148.2687173\ttotal: 1m 38s\tremaining: 1m 54s\n",
      "461:\tlearn: 148.2402791\ttotal: 1m 38s\tremaining: 1m 54s\n",
      "462:\tlearn: 148.2209126\ttotal: 1m 38s\tremaining: 1m 54s\n",
      "463:\tlearn: 148.2016211\ttotal: 1m 38s\tremaining: 1m 54s\n",
      "464:\tlearn: 148.1825571\ttotal: 1m 39s\tremaining: 1m 53s\n",
      "465:\tlearn: 148.1633093\ttotal: 1m 39s\tremaining: 1m 53s\n",
      "466:\tlearn: 148.1450564\ttotal: 1m 39s\tremaining: 1m 53s\n",
      "467:\tlearn: 148.1265537\ttotal: 1m 39s\tremaining: 1m 53s\n",
      "468:\tlearn: 148.1082375\ttotal: 1m 39s\tremaining: 1m 53s\n",
      "469:\tlearn: 148.0473273\ttotal: 1m 40s\tremaining: 1m 52s\n",
      "470:\tlearn: 148.0055440\ttotal: 1m 40s\tremaining: 1m 52s\n",
      "471:\tlearn: 147.9646872\ttotal: 1m 40s\tremaining: 1m 52s\n",
      "472:\tlearn: 147.9316188\ttotal: 1m 40s\tremaining: 1m 52s\n",
      "473:\tlearn: 147.9140221\ttotal: 1m 40s\tremaining: 1m 52s\n",
      "474:\tlearn: 147.8966630\ttotal: 1m 41s\tremaining: 1m 51s\n",
      "475:\tlearn: 147.8776991\ttotal: 1m 41s\tremaining: 1m 51s\n",
      "476:\tlearn: 147.8587620\ttotal: 1m 41s\tremaining: 1m 51s\n",
      "477:\tlearn: 147.8401206\ttotal: 1m 41s\tremaining: 1m 51s\n",
      "478:\tlearn: 147.8202215\ttotal: 1m 42s\tremaining: 1m 50s\n",
      "479:\tlearn: 147.8017382\ttotal: 1m 42s\tremaining: 1m 50s\n",
      "480:\tlearn: 147.7830288\ttotal: 1m 42s\tremaining: 1m 50s\n",
      "481:\tlearn: 147.7649683\ttotal: 1m 42s\tremaining: 1m 50s\n",
      "482:\tlearn: 147.7332543\ttotal: 1m 42s\tremaining: 1m 50s\n",
      "483:\tlearn: 147.6957714\ttotal: 1m 43s\tremaining: 1m 49s\n",
      "484:\tlearn: 147.6689405\ttotal: 1m 43s\tremaining: 1m 49s\n",
      "485:\tlearn: 147.6389600\ttotal: 1m 43s\tremaining: 1m 49s\n",
      "486:\tlearn: 147.6217749\ttotal: 1m 43s\tremaining: 1m 49s\n",
      "487:\tlearn: 147.5654315\ttotal: 1m 43s\tremaining: 1m 49s\n",
      "488:\tlearn: 147.5467665\ttotal: 1m 44s\tremaining: 1m 48s\n",
      "489:\tlearn: 147.5289906\ttotal: 1m 44s\tremaining: 1m 48s\n",
      "490:\tlearn: 147.5116687\ttotal: 1m 44s\tremaining: 1m 48s\n",
      "491:\tlearn: 147.4723926\ttotal: 1m 44s\tremaining: 1m 48s\n",
      "492:\tlearn: 147.4552067\ttotal: 1m 44s\tremaining: 1m 47s\n",
      "493:\tlearn: 147.4367395\ttotal: 1m 45s\tremaining: 1m 47s\n",
      "494:\tlearn: 147.3834124\ttotal: 1m 45s\tremaining: 1m 47s\n",
      "495:\tlearn: 147.3579368\ttotal: 1m 45s\tremaining: 1m 47s\n",
      "496:\tlearn: 147.3244767\ttotal: 1m 45s\tremaining: 1m 47s\n",
      "497:\tlearn: 147.3060158\ttotal: 1m 46s\tremaining: 1m 46s\n",
      "498:\tlearn: 147.2699823\ttotal: 1m 46s\tremaining: 1m 46s\n",
      "499:\tlearn: 147.2527379\ttotal: 1m 46s\tremaining: 1m 46s\n",
      "500:\tlearn: 147.2033795\ttotal: 1m 46s\tremaining: 1m 46s\n",
      "501:\tlearn: 147.1862681\ttotal: 1m 46s\tremaining: 1m 46s\n",
      "502:\tlearn: 147.1681297\ttotal: 1m 47s\tremaining: 1m 45s\n",
      "503:\tlearn: 147.1267846\ttotal: 1m 47s\tremaining: 1m 45s\n",
      "504:\tlearn: 147.1008554\ttotal: 1m 47s\tremaining: 1m 45s\n",
      "505:\tlearn: 147.0664790\ttotal: 1m 47s\tremaining: 1m 45s\n",
      "506:\tlearn: 147.0262102\ttotal: 1m 47s\tremaining: 1m 44s\n",
      "507:\tlearn: 147.0014324\ttotal: 1m 48s\tremaining: 1m 44s\n",
      "508:\tlearn: 146.9831047\ttotal: 1m 48s\tremaining: 1m 44s\n",
      "509:\tlearn: 146.9520661\ttotal: 1m 48s\tremaining: 1m 44s\n",
      "510:\tlearn: 146.9338087\ttotal: 1m 48s\tremaining: 1m 44s\n",
      "511:\tlearn: 146.9161730\ttotal: 1m 48s\tremaining: 1m 43s\n",
      "512:\tlearn: 146.8996142\ttotal: 1m 49s\tremaining: 1m 43s\n",
      "513:\tlearn: 146.8633812\ttotal: 1m 49s\tremaining: 1m 43s\n",
      "514:\tlearn: 146.8452180\ttotal: 1m 49s\tremaining: 1m 43s\n",
      "515:\tlearn: 146.8271178\ttotal: 1m 49s\tremaining: 1m 42s\n",
      "516:\tlearn: 146.7890804\ttotal: 1m 50s\tremaining: 1m 42s\n",
      "517:\tlearn: 146.7710080\ttotal: 1m 50s\tremaining: 1m 42s\n",
      "518:\tlearn: 146.7120678\ttotal: 1m 50s\tremaining: 1m 42s\n",
      "519:\tlearn: 146.6944977\ttotal: 1m 50s\tremaining: 1m 42s\n",
      "520:\tlearn: 146.6595993\ttotal: 1m 50s\tremaining: 1m 41s\n",
      "521:\tlearn: 146.6415915\ttotal: 1m 51s\tremaining: 1m 41s\n",
      "522:\tlearn: 146.5970243\ttotal: 1m 51s\tremaining: 1m 41s\n",
      "523:\tlearn: 146.5790611\ttotal: 1m 51s\tremaining: 1m 41s\n",
      "524:\tlearn: 146.5611548\ttotal: 1m 51s\tremaining: 1m 41s\n",
      "525:\tlearn: 146.5100314\ttotal: 1m 51s\tremaining: 1m 40s\n",
      "526:\tlearn: 146.4926466\ttotal: 1m 52s\tremaining: 1m 40s\n",
      "527:\tlearn: 146.4664747\ttotal: 1m 52s\tremaining: 1m 40s\n",
      "528:\tlearn: 146.4493349\ttotal: 1m 52s\tremaining: 1m 40s\n",
      "529:\tlearn: 146.4230734\ttotal: 1m 52s\tremaining: 1m 40s\n",
      "530:\tlearn: 146.3820915\ttotal: 1m 52s\tremaining: 1m 39s\n",
      "531:\tlearn: 146.3642707\ttotal: 1m 53s\tremaining: 1m 39s\n",
      "532:\tlearn: 146.3243043\ttotal: 1m 53s\tremaining: 1m 39s\n",
      "533:\tlearn: 146.3065114\ttotal: 1m 53s\tremaining: 1m 39s\n",
      "534:\tlearn: 146.2777268\ttotal: 1m 53s\tremaining: 1m 38s\n",
      "535:\tlearn: 146.2333526\ttotal: 1m 54s\tremaining: 1m 38s\n",
      "536:\tlearn: 146.2163185\ttotal: 1m 54s\tremaining: 1m 38s\n",
      "537:\tlearn: 146.1701881\ttotal: 1m 54s\tremaining: 1m 38s\n",
      "538:\tlearn: 146.1454253\ttotal: 1m 54s\tremaining: 1m 38s\n",
      "539:\tlearn: 146.1164780\ttotal: 1m 55s\tremaining: 1m 38s\n",
      "540:\tlearn: 146.0917296\ttotal: 1m 55s\tremaining: 1m 37s\n",
      "541:\tlearn: 146.0723214\ttotal: 1m 55s\tremaining: 1m 37s\n",
      "542:\tlearn: 146.0272004\ttotal: 1m 55s\tremaining: 1m 37s\n",
      "543:\tlearn: 145.9822265\ttotal: 1m 55s\tremaining: 1m 37s\n",
      "544:\tlearn: 145.9394779\ttotal: 1m 56s\tremaining: 1m 36s\n",
      "545:\tlearn: 145.9222495\ttotal: 1m 56s\tremaining: 1m 36s\n",
      "546:\tlearn: 145.8886735\ttotal: 1m 56s\tremaining: 1m 36s\n",
      "547:\tlearn: 145.8634193\ttotal: 1m 56s\tremaining: 1m 36s\n",
      "548:\tlearn: 145.8457218\ttotal: 1m 57s\tremaining: 1m 36s\n",
      "549:\tlearn: 145.8280646\ttotal: 1m 57s\tremaining: 1m 35s\n",
      "550:\tlearn: 145.7878869\ttotal: 1m 57s\tremaining: 1m 35s\n",
      "551:\tlearn: 145.7710761\ttotal: 1m 57s\tremaining: 1m 35s\n",
      "552:\tlearn: 145.7435742\ttotal: 1m 57s\tremaining: 1m 35s\n",
      "553:\tlearn: 145.7265050\ttotal: 1m 58s\tremaining: 1m 35s\n",
      "554:\tlearn: 145.6830668\ttotal: 1m 58s\tremaining: 1m 34s\n",
      "555:\tlearn: 145.6662532\ttotal: 1m 58s\tremaining: 1m 34s\n",
      "556:\tlearn: 145.6487604\ttotal: 1m 58s\tremaining: 1m 34s\n",
      "557:\tlearn: 145.6109230\ttotal: 1m 58s\tremaining: 1m 34s\n",
      "558:\tlearn: 145.5769504\ttotal: 1m 59s\tremaining: 1m 33s\n",
      "559:\tlearn: 145.5594776\ttotal: 1m 59s\tremaining: 1m 33s\n",
      "560:\tlearn: 145.5427904\ttotal: 1m 59s\tremaining: 1m 33s\n",
      "561:\tlearn: 145.4886658\ttotal: 1m 59s\tremaining: 1m 33s\n",
      "562:\tlearn: 145.4652953\ttotal: 1m 59s\tremaining: 1m 33s\n",
      "563:\tlearn: 145.4417964\ttotal: 2m\tremaining: 1m 32s\n",
      "564:\tlearn: 145.4173894\ttotal: 2m\tremaining: 1m 32s\n",
      "565:\tlearn: 145.3687122\ttotal: 2m\tremaining: 1m 32s\n",
      "566:\tlearn: 145.3342016\ttotal: 2m\tremaining: 1m 32s\n",
      "567:\tlearn: 145.3021285\ttotal: 2m\tremaining: 1m 32s\n",
      "568:\tlearn: 145.2852297\ttotal: 2m 1s\tremaining: 1m 31s\n",
      "569:\tlearn: 145.2572568\ttotal: 2m 1s\tremaining: 1m 31s\n",
      "570:\tlearn: 145.2398537\ttotal: 2m 1s\tremaining: 1m 31s\n",
      "571:\tlearn: 145.2115146\ttotal: 2m 1s\tremaining: 1m 31s\n",
      "572:\tlearn: 145.1760883\ttotal: 2m 2s\tremaining: 1m 31s\n",
      "573:\tlearn: 145.1587235\ttotal: 2m 2s\tremaining: 1m 30s\n",
      "574:\tlearn: 145.1421719\ttotal: 2m 2s\tremaining: 1m 30s\n",
      "575:\tlearn: 145.0890363\ttotal: 2m 2s\tremaining: 1m 30s\n",
      "576:\tlearn: 145.0360214\ttotal: 2m 2s\tremaining: 1m 30s\n",
      "577:\tlearn: 145.0187219\ttotal: 2m 3s\tremaining: 1m 29s\n",
      "578:\tlearn: 145.0019990\ttotal: 2m 3s\tremaining: 1m 29s\n",
      "579:\tlearn: 144.9494553\ttotal: 2m 3s\tremaining: 1m 29s\n",
      "580:\tlearn: 144.9108759\ttotal: 2m 3s\tremaining: 1m 29s\n",
      "581:\tlearn: 144.8880712\ttotal: 2m 3s\tremaining: 1m 29s\n",
      "582:\tlearn: 144.8708115\ttotal: 2m 4s\tremaining: 1m 28s\n",
      "583:\tlearn: 144.8536035\ttotal: 2m 4s\tremaining: 1m 28s\n",
      "584:\tlearn: 144.8184765\ttotal: 2m 4s\tremaining: 1m 28s\n",
      "585:\tlearn: 144.7912889\ttotal: 2m 4s\tremaining: 1m 28s\n",
      "586:\tlearn: 144.7676605\ttotal: 2m 5s\tremaining: 1m 27s\n",
      "587:\tlearn: 144.7513469\ttotal: 2m 5s\tremaining: 1m 27s\n",
      "588:\tlearn: 144.7342186\ttotal: 2m 5s\tremaining: 1m 27s\n",
      "589:\tlearn: 144.6788077\ttotal: 2m 5s\tremaining: 1m 27s\n",
      "590:\tlearn: 144.6622658\ttotal: 2m 5s\tremaining: 1m 27s\n",
      "591:\tlearn: 144.6464786\ttotal: 2m 6s\tremaining: 1m 26s\n",
      "592:\tlearn: 144.6294295\ttotal: 2m 6s\tremaining: 1m 26s\n",
      "593:\tlearn: 144.6139872\ttotal: 2m 6s\tremaining: 1m 26s\n",
      "594:\tlearn: 144.5819043\ttotal: 2m 6s\tremaining: 1m 26s\n",
      "595:\tlearn: 144.5595567\ttotal: 2m 6s\tremaining: 1m 26s\n",
      "596:\tlearn: 144.5358805\ttotal: 2m 7s\tremaining: 1m 25s\n",
      "597:\tlearn: 144.4804820\ttotal: 2m 7s\tremaining: 1m 25s\n",
      "598:\tlearn: 144.4634803\ttotal: 2m 7s\tremaining: 1m 25s\n",
      "599:\tlearn: 144.4474501\ttotal: 2m 7s\tremaining: 1m 25s\n",
      "600:\tlearn: 144.4309082\ttotal: 2m 7s\tremaining: 1m 24s\n",
      "601:\tlearn: 144.3974002\ttotal: 2m 8s\tremaining: 1m 24s\n",
      "602:\tlearn: 144.3613908\ttotal: 2m 8s\tremaining: 1m 24s\n",
      "603:\tlearn: 144.3457953\ttotal: 2m 8s\tremaining: 1m 24s\n",
      "604:\tlearn: 144.3289298\ttotal: 2m 8s\tremaining: 1m 24s\n",
      "605:\tlearn: 144.3080889\ttotal: 2m 8s\tremaining: 1m 23s\n",
      "606:\tlearn: 144.2912446\ttotal: 2m 9s\tremaining: 1m 23s\n",
      "607:\tlearn: 144.2745521\ttotal: 2m 9s\tremaining: 1m 23s\n",
      "608:\tlearn: 144.2504516\ttotal: 2m 9s\tremaining: 1m 23s\n",
      "609:\tlearn: 144.2280136\ttotal: 2m 9s\tremaining: 1m 22s\n",
      "610:\tlearn: 144.2112173\ttotal: 2m 10s\tremaining: 1m 22s\n",
      "611:\tlearn: 144.1855178\ttotal: 2m 10s\tremaining: 1m 22s\n",
      "612:\tlearn: 144.1707195\ttotal: 2m 10s\tremaining: 1m 22s\n",
      "613:\tlearn: 144.1324881\ttotal: 2m 10s\tremaining: 1m 22s\n",
      "614:\tlearn: 144.0956911\ttotal: 2m 10s\tremaining: 1m 21s\n",
      "615:\tlearn: 144.0478431\ttotal: 2m 11s\tremaining: 1m 21s\n",
      "616:\tlearn: 144.0320698\ttotal: 2m 11s\tremaining: 1m 21s\n",
      "617:\tlearn: 144.0165301\ttotal: 2m 11s\tremaining: 1m 21s\n",
      "618:\tlearn: 143.9998579\ttotal: 2m 11s\tremaining: 1m 21s\n",
      "619:\tlearn: 143.9845101\ttotal: 2m 11s\tremaining: 1m 20s\n",
      "620:\tlearn: 143.9678875\ttotal: 2m 12s\tremaining: 1m 20s\n",
      "621:\tlearn: 143.9512998\ttotal: 2m 12s\tremaining: 1m 20s\n",
      "622:\tlearn: 143.9359028\ttotal: 2m 12s\tremaining: 1m 20s\n",
      "623:\tlearn: 143.9205395\ttotal: 2m 12s\tremaining: 1m 19s\n",
      "624:\tlearn: 143.9046660\ttotal: 2m 12s\tremaining: 1m 19s\n",
      "625:\tlearn: 143.8882011\ttotal: 2m 13s\tremaining: 1m 19s\n",
      "626:\tlearn: 143.8541595\ttotal: 2m 13s\tremaining: 1m 19s\n",
      "627:\tlearn: 143.8387991\ttotal: 2m 13s\tremaining: 1m 19s\n",
      "628:\tlearn: 143.8227590\ttotal: 2m 13s\tremaining: 1m 18s\n",
      "629:\tlearn: 143.8067889\ttotal: 2m 13s\tremaining: 1m 18s\n",
      "630:\tlearn: 143.7751823\ttotal: 2m 14s\tremaining: 1m 18s\n",
      "631:\tlearn: 143.7588164\ttotal: 2m 14s\tremaining: 1m 18s\n",
      "632:\tlearn: 143.7429788\ttotal: 2m 14s\tremaining: 1m 18s\n",
      "633:\tlearn: 143.7264809\ttotal: 2m 14s\tremaining: 1m 17s\n",
      "634:\tlearn: 143.7108215\ttotal: 2m 15s\tremaining: 1m 17s\n",
      "635:\tlearn: 143.6951507\ttotal: 2m 15s\tremaining: 1m 17s\n",
      "636:\tlearn: 143.6794844\ttotal: 2m 15s\tremaining: 1m 17s\n",
      "637:\tlearn: 143.6643106\ttotal: 2m 15s\tremaining: 1m 16s\n",
      "638:\tlearn: 143.6481329\ttotal: 2m 15s\tremaining: 1m 16s\n",
      "639:\tlearn: 143.6200584\ttotal: 2m 16s\tremaining: 1m 16s\n",
      "640:\tlearn: 143.6053930\ttotal: 2m 16s\tremaining: 1m 16s\n",
      "641:\tlearn: 143.5900503\ttotal: 2m 16s\tremaining: 1m 16s\n",
      "642:\tlearn: 143.5572838\ttotal: 2m 16s\tremaining: 1m 15s\n",
      "643:\tlearn: 143.5419028\ttotal: 2m 16s\tremaining: 1m 15s\n",
      "644:\tlearn: 143.5164559\ttotal: 2m 17s\tremaining: 1m 15s\n",
      "645:\tlearn: 143.5003725\ttotal: 2m 17s\tremaining: 1m 15s\n",
      "646:\tlearn: 143.4783781\ttotal: 2m 17s\tremaining: 1m 15s\n",
      "647:\tlearn: 143.4630339\ttotal: 2m 17s\tremaining: 1m 14s\n",
      "648:\tlearn: 143.4255462\ttotal: 2m 17s\tremaining: 1m 14s\n",
      "649:\tlearn: 143.4120600\ttotal: 2m 18s\tremaining: 1m 14s\n",
      "650:\tlearn: 143.3801402\ttotal: 2m 18s\tremaining: 1m 14s\n",
      "651:\tlearn: 143.3652639\ttotal: 2m 18s\tremaining: 1m 13s\n",
      "652:\tlearn: 143.3501074\ttotal: 2m 18s\tremaining: 1m 13s\n",
      "653:\tlearn: 143.3347767\ttotal: 2m 19s\tremaining: 1m 13s\n",
      "654:\tlearn: 143.3188081\ttotal: 2m 19s\tremaining: 1m 13s\n",
      "655:\tlearn: 143.2969073\ttotal: 2m 19s\tremaining: 1m 13s\n",
      "656:\tlearn: 143.2499621\ttotal: 2m 19s\tremaining: 1m 12s\n",
      "657:\tlearn: 143.2306885\ttotal: 2m 19s\tremaining: 1m 12s\n",
      "658:\tlearn: 143.1842121\ttotal: 2m 20s\tremaining: 1m 12s\n",
      "659:\tlearn: 143.1566996\ttotal: 2m 20s\tremaining: 1m 12s\n",
      "660:\tlearn: 143.1330611\ttotal: 2m 20s\tremaining: 1m 12s\n",
      "661:\tlearn: 143.1171836\ttotal: 2m 20s\tremaining: 1m 11s\n",
      "662:\tlearn: 143.0832559\ttotal: 2m 20s\tremaining: 1m 11s\n",
      "663:\tlearn: 143.0309755\ttotal: 2m 21s\tremaining: 1m 11s\n",
      "664:\tlearn: 142.9962241\ttotal: 2m 21s\tremaining: 1m 11s\n",
      "665:\tlearn: 142.9812244\ttotal: 2m 21s\tremaining: 1m 11s\n",
      "666:\tlearn: 142.9653164\ttotal: 2m 21s\tremaining: 1m 10s\n",
      "667:\tlearn: 142.9326126\ttotal: 2m 22s\tremaining: 1m 10s\n",
      "668:\tlearn: 142.9175891\ttotal: 2m 22s\tremaining: 1m 10s\n",
      "669:\tlearn: 142.9017428\ttotal: 2m 22s\tremaining: 1m 10s\n",
      "670:\tlearn: 142.8701334\ttotal: 2m 22s\tremaining: 1m 9s\n",
      "671:\tlearn: 142.8487482\ttotal: 2m 22s\tremaining: 1m 9s\n",
      "672:\tlearn: 142.8333988\ttotal: 2m 23s\tremaining: 1m 9s\n",
      "673:\tlearn: 142.7895774\ttotal: 2m 23s\tremaining: 1m 9s\n",
      "674:\tlearn: 142.7744209\ttotal: 2m 23s\tremaining: 1m 9s\n",
      "675:\tlearn: 142.7591334\ttotal: 2m 23s\tremaining: 1m 8s\n",
      "676:\tlearn: 142.7440487\ttotal: 2m 23s\tremaining: 1m 8s\n",
      "677:\tlearn: 142.7287257\ttotal: 2m 24s\tremaining: 1m 8s\n",
      "678:\tlearn: 142.7062201\ttotal: 2m 24s\tremaining: 1m 8s\n",
      "679:\tlearn: 142.6661700\ttotal: 2m 24s\tremaining: 1m 8s\n",
      "680:\tlearn: 142.6517560\ttotal: 2m 24s\tremaining: 1m 7s\n",
      "681:\tlearn: 142.6360674\ttotal: 2m 25s\tremaining: 1m 7s\n",
      "682:\tlearn: 142.5820312\ttotal: 2m 25s\tremaining: 1m 7s\n",
      "683:\tlearn: 142.5613658\ttotal: 2m 25s\tremaining: 1m 7s\n",
      "684:\tlearn: 142.5473432\ttotal: 2m 25s\tremaining: 1m 6s\n",
      "685:\tlearn: 142.5340610\ttotal: 2m 25s\tremaining: 1m 6s\n",
      "686:\tlearn: 142.5184394\ttotal: 2m 26s\tremaining: 1m 6s\n",
      "687:\tlearn: 142.4912537\ttotal: 2m 26s\tremaining: 1m 6s\n",
      "688:\tlearn: 142.4504710\ttotal: 2m 26s\tremaining: 1m 6s\n",
      "689:\tlearn: 142.4355483\ttotal: 2m 26s\tremaining: 1m 5s\n",
      "690:\tlearn: 142.3876090\ttotal: 2m 27s\tremaining: 1m 5s\n",
      "691:\tlearn: 142.3734364\ttotal: 2m 27s\tremaining: 1m 5s\n",
      "692:\tlearn: 142.3456423\ttotal: 2m 27s\tremaining: 1m 5s\n",
      "693:\tlearn: 142.3305597\ttotal: 2m 28s\tremaining: 1m 5s\n",
      "694:\tlearn: 142.3163323\ttotal: 2m 28s\tremaining: 1m 5s\n",
      "695:\tlearn: 142.3018621\ttotal: 2m 29s\tremaining: 1m 5s\n",
      "696:\tlearn: 142.2766913\ttotal: 2m 29s\tremaining: 1m 5s\n",
      "697:\tlearn: 142.2363076\ttotal: 2m 29s\tremaining: 1m 4s\n",
      "698:\tlearn: 142.2208073\ttotal: 2m 30s\tremaining: 1m 4s\n",
      "699:\tlearn: 142.1838898\ttotal: 2m 30s\tremaining: 1m 4s\n",
      "700:\tlearn: 142.1684197\ttotal: 2m 30s\tremaining: 1m 4s\n",
      "701:\tlearn: 142.1425157\ttotal: 2m 31s\tremaining: 1m 4s\n",
      "702:\tlearn: 142.1277153\ttotal: 2m 31s\tremaining: 1m 4s\n",
      "703:\tlearn: 142.1134655\ttotal: 2m 31s\tremaining: 1m 3s\n",
      "704:\tlearn: 142.0934447\ttotal: 2m 32s\tremaining: 1m 3s\n",
      "705:\tlearn: 142.0472726\ttotal: 2m 32s\tremaining: 1m 3s\n",
      "706:\tlearn: 142.0318446\ttotal: 2m 32s\tremaining: 1m 3s\n",
      "707:\tlearn: 142.0171228\ttotal: 2m 32s\tremaining: 1m 3s\n",
      "708:\tlearn: 142.0021575\ttotal: 2m 33s\tremaining: 1m 2s\n",
      "709:\tlearn: 141.9868036\ttotal: 2m 33s\tremaining: 1m 2s\n",
      "710:\tlearn: 141.9714756\ttotal: 2m 33s\tremaining: 1m 2s\n",
      "711:\tlearn: 141.9563782\ttotal: 2m 33s\tremaining: 1m 2s\n",
      "712:\tlearn: 141.9248279\ttotal: 2m 33s\tremaining: 1m 1s\n",
      "713:\tlearn: 141.8922696\ttotal: 2m 34s\tremaining: 1m 1s\n",
      "714:\tlearn: 141.8776929\ttotal: 2m 34s\tremaining: 1m 1s\n",
      "715:\tlearn: 141.8629546\ttotal: 2m 34s\tremaining: 1m 1s\n",
      "716:\tlearn: 141.8411580\ttotal: 2m 34s\tremaining: 1m 1s\n",
      "717:\tlearn: 141.8259171\ttotal: 2m 35s\tremaining: 1m\n",
      "718:\tlearn: 141.7839605\ttotal: 2m 35s\tremaining: 1m\n",
      "719:\tlearn: 141.7495838\ttotal: 2m 35s\tremaining: 1m\n",
      "720:\tlearn: 141.7296023\ttotal: 2m 35s\tremaining: 1m\n",
      "721:\tlearn: 141.6653679\ttotal: 2m 36s\tremaining: 1m\n",
      "722:\tlearn: 141.6501243\ttotal: 2m 36s\tremaining: 59.9s\n",
      "723:\tlearn: 141.6153011\ttotal: 2m 36s\tremaining: 59.7s\n",
      "724:\tlearn: 141.5769559\ttotal: 2m 36s\tremaining: 59.4s\n",
      "725:\tlearn: 141.5284969\ttotal: 2m 36s\tremaining: 59.2s\n",
      "726:\tlearn: 141.4892712\ttotal: 2m 37s\tremaining: 59s\n",
      "727:\tlearn: 141.4752814\ttotal: 2m 37s\tremaining: 58.8s\n",
      "728:\tlearn: 141.4555100\ttotal: 2m 37s\tremaining: 58.6s\n",
      "729:\tlearn: 141.4241687\ttotal: 2m 37s\tremaining: 58.4s\n",
      "730:\tlearn: 141.4039619\ttotal: 2m 38s\tremaining: 58.2s\n",
      "731:\tlearn: 141.3887395\ttotal: 2m 38s\tremaining: 58s\n",
      "732:\tlearn: 141.3742516\ttotal: 2m 38s\tremaining: 57.7s\n",
      "733:\tlearn: 141.3600894\ttotal: 2m 38s\tremaining: 57.5s\n",
      "734:\tlearn: 141.3459269\ttotal: 2m 38s\tremaining: 57.3s\n",
      "735:\tlearn: 141.3322423\ttotal: 2m 39s\tremaining: 57.1s\n",
      "736:\tlearn: 141.3020700\ttotal: 2m 39s\tremaining: 56.9s\n",
      "737:\tlearn: 141.2821034\ttotal: 2m 39s\tremaining: 56.7s\n",
      "738:\tlearn: 141.2675887\ttotal: 2m 39s\tremaining: 56.4s\n",
      "739:\tlearn: 141.2525130\ttotal: 2m 40s\tremaining: 56.2s\n",
      "740:\tlearn: 141.2043316\ttotal: 2m 40s\tremaining: 56s\n",
      "741:\tlearn: 141.1896799\ttotal: 2m 40s\tremaining: 55.8s\n",
      "742:\tlearn: 141.1635643\ttotal: 2m 40s\tremaining: 55.6s\n",
      "743:\tlearn: 141.1485087\ttotal: 2m 40s\tremaining: 55.4s\n",
      "744:\tlearn: 141.1098678\ttotal: 2m 41s\tremaining: 55.2s\n",
      "745:\tlearn: 141.0883561\ttotal: 2m 41s\tremaining: 55s\n",
      "746:\tlearn: 141.0483995\ttotal: 2m 41s\tremaining: 54.8s\n",
      "747:\tlearn: 141.0029282\ttotal: 2m 41s\tremaining: 54.5s\n",
      "748:\tlearn: 140.9895865\ttotal: 2m 42s\tremaining: 54.3s\n",
      "749:\tlearn: 140.9563025\ttotal: 2m 42s\tremaining: 54.1s\n",
      "750:\tlearn: 140.9304896\ttotal: 2m 42s\tremaining: 53.9s\n",
      "751:\tlearn: 140.9154656\ttotal: 2m 42s\tremaining: 53.7s\n",
      "752:\tlearn: 140.8888275\ttotal: 2m 43s\tremaining: 53.5s\n",
      "753:\tlearn: 140.8745512\ttotal: 2m 43s\tremaining: 53.3s\n",
      "754:\tlearn: 140.8601350\ttotal: 2m 43s\tremaining: 53.1s\n",
      "755:\tlearn: 140.8320405\ttotal: 2m 43s\tremaining: 52.9s\n",
      "756:\tlearn: 140.8171043\ttotal: 2m 43s\tremaining: 52.6s\n",
      "757:\tlearn: 140.8031897\ttotal: 2m 44s\tremaining: 52.4s\n",
      "758:\tlearn: 140.7875469\ttotal: 2m 44s\tremaining: 52.2s\n",
      "759:\tlearn: 140.7731815\ttotal: 2m 44s\tremaining: 52s\n",
      "760:\tlearn: 140.7586691\ttotal: 2m 44s\tremaining: 51.8s\n",
      "761:\tlearn: 140.7444437\ttotal: 2m 45s\tremaining: 51.6s\n",
      "762:\tlearn: 140.7301837\ttotal: 2m 45s\tremaining: 51.4s\n",
      "763:\tlearn: 140.7172951\ttotal: 2m 45s\tremaining: 51.2s\n",
      "764:\tlearn: 140.7030889\ttotal: 2m 46s\tremaining: 51s\n",
      "765:\tlearn: 140.6887898\ttotal: 2m 46s\tremaining: 50.8s\n",
      "766:\tlearn: 140.6740807\ttotal: 2m 46s\tremaining: 50.6s\n",
      "767:\tlearn: 140.6404351\ttotal: 2m 46s\tremaining: 50.4s\n",
      "768:\tlearn: 140.6261074\ttotal: 2m 47s\tremaining: 50.2s\n",
      "769:\tlearn: 140.6120426\ttotal: 2m 47s\tremaining: 50s\n",
      "770:\tlearn: 140.5906532\ttotal: 2m 47s\tremaining: 49.7s\n",
      "771:\tlearn: 140.5766729\ttotal: 2m 47s\tremaining: 49.5s\n",
      "772:\tlearn: 140.5462468\ttotal: 2m 47s\tremaining: 49.3s\n",
      "773:\tlearn: 140.5130910\ttotal: 2m 48s\tremaining: 49.1s\n",
      "774:\tlearn: 140.4841670\ttotal: 2m 48s\tremaining: 48.9s\n",
      "775:\tlearn: 140.4700579\ttotal: 2m 48s\tremaining: 48.7s\n",
      "776:\tlearn: 140.4159582\ttotal: 2m 48s\tremaining: 48.4s\n",
      "777:\tlearn: 140.3818524\ttotal: 2m 48s\tremaining: 48.2s\n",
      "778:\tlearn: 140.3663532\ttotal: 2m 49s\tremaining: 48s\n",
      "779:\tlearn: 140.3467856\ttotal: 2m 49s\tremaining: 47.8s\n",
      "780:\tlearn: 140.3334978\ttotal: 2m 49s\tremaining: 47.6s\n",
      "781:\tlearn: 140.3205573\ttotal: 2m 49s\tremaining: 47.4s\n",
      "782:\tlearn: 140.3078261\ttotal: 2m 50s\tremaining: 47.2s\n",
      "783:\tlearn: 140.2889011\ttotal: 2m 50s\tremaining: 47s\n",
      "784:\tlearn: 140.2481135\ttotal: 2m 50s\tremaining: 46.8s\n",
      "785:\tlearn: 140.2344543\ttotal: 2m 50s\tremaining: 46.5s\n",
      "786:\tlearn: 140.2149044\ttotal: 2m 51s\tremaining: 46.3s\n",
      "787:\tlearn: 140.2003541\ttotal: 2m 51s\tremaining: 46.1s\n",
      "788:\tlearn: 140.1858165\ttotal: 2m 51s\tremaining: 45.9s\n",
      "789:\tlearn: 140.1719328\ttotal: 2m 51s\tremaining: 45.7s\n",
      "790:\tlearn: 140.1585335\ttotal: 2m 52s\tremaining: 45.4s\n",
      "791:\tlearn: 140.1440491\ttotal: 2m 52s\tremaining: 45.2s\n",
      "792:\tlearn: 140.1226133\ttotal: 2m 52s\tremaining: 45s\n",
      "793:\tlearn: 140.0979337\ttotal: 2m 52s\tremaining: 44.8s\n",
      "794:\tlearn: 140.0827237\ttotal: 2m 52s\tremaining: 44.6s\n",
      "795:\tlearn: 140.0426493\ttotal: 2m 53s\tremaining: 44.3s\n",
      "796:\tlearn: 140.0042186\ttotal: 2m 53s\tremaining: 44.1s\n",
      "797:\tlearn: 139.9897606\ttotal: 2m 53s\tremaining: 43.9s\n",
      "798:\tlearn: 139.9689455\ttotal: 2m 53s\tremaining: 43.7s\n",
      "799:\tlearn: 139.9552624\ttotal: 2m 53s\tremaining: 43.5s\n",
      "800:\tlearn: 139.9408697\ttotal: 2m 54s\tremaining: 43.3s\n",
      "801:\tlearn: 139.9211745\ttotal: 2m 54s\tremaining: 43s\n",
      "802:\tlearn: 139.9079867\ttotal: 2m 54s\tremaining: 42.8s\n",
      "803:\tlearn: 139.8869369\ttotal: 2m 54s\tremaining: 42.6s\n",
      "804:\tlearn: 139.8553839\ttotal: 2m 54s\tremaining: 42.4s\n",
      "805:\tlearn: 139.8361482\ttotal: 2m 55s\tremaining: 42.1s\n",
      "806:\tlearn: 139.8146201\ttotal: 2m 55s\tremaining: 41.9s\n",
      "807:\tlearn: 139.7624610\ttotal: 2m 55s\tremaining: 41.7s\n",
      "808:\tlearn: 139.7480875\ttotal: 2m 55s\tremaining: 41.5s\n",
      "809:\tlearn: 139.7054925\ttotal: 2m 55s\tremaining: 41.3s\n",
      "810:\tlearn: 139.6913311\ttotal: 2m 56s\tremaining: 41s\n",
      "811:\tlearn: 139.6776508\ttotal: 2m 56s\tremaining: 40.8s\n",
      "812:\tlearn: 139.6594980\ttotal: 2m 56s\tremaining: 40.6s\n",
      "813:\tlearn: 139.6463473\ttotal: 2m 56s\tremaining: 40.4s\n",
      "814:\tlearn: 139.6325244\ttotal: 2m 57s\tremaining: 40.2s\n",
      "815:\tlearn: 139.6182347\ttotal: 2m 57s\tremaining: 40s\n",
      "816:\tlearn: 139.5829164\ttotal: 2m 57s\tremaining: 39.7s\n",
      "817:\tlearn: 139.5624481\ttotal: 2m 57s\tremaining: 39.5s\n",
      "818:\tlearn: 139.5481863\ttotal: 2m 57s\tremaining: 39.3s\n",
      "819:\tlearn: 139.5123042\ttotal: 2m 58s\tremaining: 39.1s\n",
      "820:\tlearn: 139.4990947\ttotal: 2m 58s\tremaining: 38.9s\n",
      "821:\tlearn: 139.4841410\ttotal: 2m 58s\tremaining: 38.6s\n",
      "822:\tlearn: 139.4710728\ttotal: 2m 58s\tremaining: 38.4s\n",
      "823:\tlearn: 139.4568923\ttotal: 2m 58s\tremaining: 38.2s\n",
      "824:\tlearn: 139.4438197\ttotal: 2m 59s\tremaining: 38s\n",
      "825:\tlearn: 139.4292372\ttotal: 2m 59s\tremaining: 37.8s\n",
      "826:\tlearn: 139.4150990\ttotal: 2m 59s\tremaining: 37.5s\n",
      "827:\tlearn: 139.3973089\ttotal: 2m 59s\tremaining: 37.3s\n",
      "828:\tlearn: 139.3831816\ttotal: 2m 59s\tremaining: 37.1s\n",
      "829:\tlearn: 139.3639964\ttotal: 3m\tremaining: 36.9s\n",
      "830:\tlearn: 139.3506929\ttotal: 3m\tremaining: 36.7s\n",
      "831:\tlearn: 139.3366117\ttotal: 3m\tremaining: 36.5s\n",
      "832:\tlearn: 139.3225576\ttotal: 3m\tremaining: 36.3s\n",
      "833:\tlearn: 139.2894062\ttotal: 3m 1s\tremaining: 36s\n",
      "834:\tlearn: 139.2625704\ttotal: 3m 1s\tremaining: 35.8s\n",
      "835:\tlearn: 139.2490792\ttotal: 3m 1s\tremaining: 35.6s\n",
      "836:\tlearn: 139.1835994\ttotal: 3m 1s\tremaining: 35.4s\n",
      "837:\tlearn: 139.1695847\ttotal: 3m 2s\tremaining: 35.2s\n",
      "838:\tlearn: 139.1574185\ttotal: 3m 2s\tremaining: 35s\n",
      "839:\tlearn: 139.1418121\ttotal: 3m 2s\tremaining: 34.8s\n",
      "840:\tlearn: 139.0833161\ttotal: 3m 2s\tremaining: 34.5s\n",
      "841:\tlearn: 139.0672173\ttotal: 3m 2s\tremaining: 34.3s\n",
      "842:\tlearn: 139.0532273\ttotal: 3m 3s\tremaining: 34.1s\n",
      "843:\tlearn: 139.0398296\ttotal: 3m 3s\tremaining: 33.9s\n",
      "844:\tlearn: 139.0264975\ttotal: 3m 3s\tremaining: 33.7s\n",
      "845:\tlearn: 139.0125338\ttotal: 3m 3s\tremaining: 33.5s\n",
      "846:\tlearn: 138.9701033\ttotal: 3m 3s\tremaining: 33.2s\n",
      "847:\tlearn: 138.9561784\ttotal: 3m 4s\tremaining: 33s\n",
      "848:\tlearn: 138.9286466\ttotal: 3m 4s\tremaining: 32.8s\n",
      "849:\tlearn: 138.9158270\ttotal: 3m 4s\tremaining: 32.6s\n",
      "850:\tlearn: 138.9012242\ttotal: 3m 4s\tremaining: 32.4s\n",
      "851:\tlearn: 138.8655432\ttotal: 3m 5s\tremaining: 32.1s\n",
      "852:\tlearn: 138.8474089\ttotal: 3m 5s\tremaining: 31.9s\n",
      "853:\tlearn: 138.8108942\ttotal: 3m 5s\tremaining: 31.7s\n",
      "854:\tlearn: 138.7925992\ttotal: 3m 5s\tremaining: 31.5s\n",
      "855:\tlearn: 138.7371542\ttotal: 3m 5s\tremaining: 31.3s\n",
      "856:\tlearn: 138.7232626\ttotal: 3m 6s\tremaining: 31s\n",
      "857:\tlearn: 138.7087357\ttotal: 3m 6s\tremaining: 30.8s\n",
      "858:\tlearn: 138.6942790\ttotal: 3m 6s\tremaining: 30.6s\n",
      "859:\tlearn: 138.6810931\ttotal: 3m 6s\tremaining: 30.4s\n",
      "860:\tlearn: 138.6445105\ttotal: 3m 6s\tremaining: 30.2s\n",
      "861:\tlearn: 138.6308328\ttotal: 3m 7s\tremaining: 29.9s\n",
      "862:\tlearn: 138.6181792\ttotal: 3m 7s\tremaining: 29.7s\n",
      "863:\tlearn: 138.6043883\ttotal: 3m 7s\tremaining: 29.5s\n",
      "864:\tlearn: 138.5907454\ttotal: 3m 7s\tremaining: 29.3s\n",
      "865:\tlearn: 138.5666896\ttotal: 3m 7s\tremaining: 29.1s\n",
      "866:\tlearn: 138.5529424\ttotal: 3m 8s\tremaining: 28.9s\n",
      "867:\tlearn: 138.5216598\ttotal: 3m 8s\tremaining: 28.6s\n",
      "868:\tlearn: 138.5091363\ttotal: 3m 8s\tremaining: 28.4s\n",
      "869:\tlearn: 138.4907448\ttotal: 3m 8s\tremaining: 28.2s\n",
      "870:\tlearn: 138.4569111\ttotal: 3m 8s\tremaining: 28s\n",
      "871:\tlearn: 138.4316353\ttotal: 3m 9s\tremaining: 27.8s\n",
      "872:\tlearn: 138.4174960\ttotal: 3m 9s\tremaining: 27.5s\n",
      "873:\tlearn: 138.4036284\ttotal: 3m 9s\tremaining: 27.3s\n",
      "874:\tlearn: 138.3899431\ttotal: 3m 9s\tremaining: 27.1s\n",
      "875:\tlearn: 138.3759468\ttotal: 3m 10s\tremaining: 26.9s\n",
      "876:\tlearn: 138.3438714\ttotal: 3m 10s\tremaining: 26.7s\n",
      "877:\tlearn: 138.3182257\ttotal: 3m 10s\tremaining: 26.5s\n",
      "878:\tlearn: 138.2965742\ttotal: 3m 10s\tremaining: 26.2s\n",
      "879:\tlearn: 138.2832561\ttotal: 3m 10s\tremaining: 26s\n",
      "880:\tlearn: 138.2583773\ttotal: 3m 11s\tremaining: 25.8s\n",
      "881:\tlearn: 138.2444915\ttotal: 3m 11s\tremaining: 25.6s\n",
      "882:\tlearn: 138.2309941\ttotal: 3m 11s\tremaining: 25.4s\n",
      "883:\tlearn: 138.2173707\ttotal: 3m 11s\tremaining: 25.1s\n",
      "884:\tlearn: 138.2035789\ttotal: 3m 11s\tremaining: 24.9s\n",
      "885:\tlearn: 138.1908452\ttotal: 3m 12s\tremaining: 24.7s\n",
      "886:\tlearn: 138.1781209\ttotal: 3m 12s\tremaining: 24.5s\n",
      "887:\tlearn: 138.1494196\ttotal: 3m 12s\tremaining: 24.3s\n",
      "888:\tlearn: 138.1357538\ttotal: 3m 12s\tremaining: 24.1s\n",
      "889:\tlearn: 138.1224589\ttotal: 3m 12s\tremaining: 23.8s\n",
      "890:\tlearn: 138.0908369\ttotal: 3m 13s\tremaining: 23.6s\n",
      "891:\tlearn: 138.0777180\ttotal: 3m 13s\tremaining: 23.4s\n",
      "892:\tlearn: 138.0646780\ttotal: 3m 13s\tremaining: 23.2s\n",
      "893:\tlearn: 138.0512193\ttotal: 3m 13s\tremaining: 23s\n",
      "894:\tlearn: 138.0288852\ttotal: 3m 13s\tremaining: 22.8s\n",
      "895:\tlearn: 137.9913095\ttotal: 3m 14s\tremaining: 22.5s\n",
      "896:\tlearn: 137.9785021\ttotal: 3m 14s\tremaining: 22.3s\n",
      "897:\tlearn: 137.9664335\ttotal: 3m 14s\tremaining: 22.1s\n",
      "898:\tlearn: 137.9543038\ttotal: 3m 14s\tremaining: 21.9s\n",
      "899:\tlearn: 137.9413223\ttotal: 3m 14s\tremaining: 21.7s\n",
      "900:\tlearn: 137.9294955\ttotal: 3m 15s\tremaining: 21.4s\n",
      "901:\tlearn: 137.9163466\ttotal: 3m 15s\tremaining: 21.2s\n",
      "902:\tlearn: 137.8901303\ttotal: 3m 15s\tremaining: 21s\n",
      "903:\tlearn: 137.8522950\ttotal: 3m 15s\tremaining: 20.8s\n",
      "904:\tlearn: 137.8399177\ttotal: 3m 15s\tremaining: 20.6s\n",
      "905:\tlearn: 137.8271390\ttotal: 3m 16s\tremaining: 20.4s\n",
      "906:\tlearn: 137.8141162\ttotal: 3m 16s\tremaining: 20.1s\n",
      "907:\tlearn: 137.8011366\ttotal: 3m 16s\tremaining: 19.9s\n",
      "908:\tlearn: 137.7610076\ttotal: 3m 16s\tremaining: 19.7s\n",
      "909:\tlearn: 137.7479529\ttotal: 3m 17s\tremaining: 19.5s\n",
      "910:\tlearn: 137.7350169\ttotal: 3m 17s\tremaining: 19.3s\n",
      "911:\tlearn: 137.7064375\ttotal: 3m 17s\tremaining: 19s\n",
      "912:\tlearn: 137.6941003\ttotal: 3m 17s\tremaining: 18.8s\n",
      "913:\tlearn: 137.6722111\ttotal: 3m 17s\tremaining: 18.6s\n",
      "914:\tlearn: 137.6596470\ttotal: 3m 18s\tremaining: 18.4s\n",
      "915:\tlearn: 137.6255300\ttotal: 3m 18s\tremaining: 18.2s\n",
      "916:\tlearn: 137.6122304\ttotal: 3m 18s\tremaining: 18s\n",
      "917:\tlearn: 137.5989478\ttotal: 3m 18s\tremaining: 17.8s\n",
      "918:\tlearn: 137.5545309\ttotal: 3m 18s\tremaining: 17.5s\n",
      "919:\tlearn: 137.5316753\ttotal: 3m 19s\tremaining: 17.3s\n",
      "920:\tlearn: 137.5186425\ttotal: 3m 19s\tremaining: 17.1s\n",
      "921:\tlearn: 137.5060222\ttotal: 3m 19s\tremaining: 16.9s\n",
      "922:\tlearn: 137.4701017\ttotal: 3m 19s\tremaining: 16.7s\n",
      "923:\tlearn: 137.4564467\ttotal: 3m 19s\tremaining: 16.4s\n",
      "924:\tlearn: 137.4270860\ttotal: 3m 20s\tremaining: 16.2s\n",
      "925:\tlearn: 137.4149456\ttotal: 3m 20s\tremaining: 16s\n",
      "926:\tlearn: 137.3596173\ttotal: 3m 20s\tremaining: 15.8s\n",
      "927:\tlearn: 137.3272123\ttotal: 3m 20s\tremaining: 15.6s\n",
      "928:\tlearn: 137.3089537\ttotal: 3m 21s\tremaining: 15.4s\n",
      "929:\tlearn: 137.2897503\ttotal: 3m 21s\tremaining: 15.1s\n",
      "930:\tlearn: 137.2725317\ttotal: 3m 21s\tremaining: 14.9s\n",
      "931:\tlearn: 137.2604167\ttotal: 3m 21s\tremaining: 14.7s\n",
      "932:\tlearn: 137.2183489\ttotal: 3m 21s\tremaining: 14.5s\n",
      "933:\tlearn: 137.2056358\ttotal: 3m 22s\tremaining: 14.3s\n",
      "934:\tlearn: 137.1856854\ttotal: 3m 22s\tremaining: 14.1s\n",
      "935:\tlearn: 137.1724890\ttotal: 3m 22s\tremaining: 13.8s\n",
      "936:\tlearn: 137.1605176\ttotal: 3m 22s\tremaining: 13.6s\n",
      "937:\tlearn: 137.1367997\ttotal: 3m 22s\tremaining: 13.4s\n",
      "938:\tlearn: 137.1242056\ttotal: 3m 23s\tremaining: 13.2s\n",
      "939:\tlearn: 137.0988416\ttotal: 3m 23s\tremaining: 13s\n",
      "940:\tlearn: 137.0771609\ttotal: 3m 23s\tremaining: 12.8s\n",
      "941:\tlearn: 137.0600079\ttotal: 3m 23s\tremaining: 12.5s\n",
      "942:\tlearn: 137.0387314\ttotal: 3m 23s\tremaining: 12.3s\n",
      "943:\tlearn: 137.0062689\ttotal: 3m 24s\tremaining: 12.1s\n",
      "944:\tlearn: 136.9807835\ttotal: 3m 24s\tremaining: 11.9s\n",
      "945:\tlearn: 136.9687307\ttotal: 3m 24s\tremaining: 11.7s\n",
      "946:\tlearn: 136.9390289\ttotal: 3m 24s\tremaining: 11.5s\n",
      "947:\tlearn: 136.9050156\ttotal: 3m 24s\tremaining: 11.2s\n",
      "948:\tlearn: 136.8753503\ttotal: 3m 25s\tremaining: 11s\n",
      "949:\tlearn: 136.8621800\ttotal: 3m 25s\tremaining: 10.8s\n",
      "950:\tlearn: 136.8495400\ttotal: 3m 25s\tremaining: 10.6s\n",
      "951:\tlearn: 136.8320671\ttotal: 3m 25s\tremaining: 10.4s\n",
      "952:\tlearn: 136.8022330\ttotal: 3m 26s\tremaining: 10.2s\n",
      "953:\tlearn: 136.7807062\ttotal: 3m 26s\tremaining: 9.95s\n",
      "954:\tlearn: 136.7686090\ttotal: 3m 26s\tremaining: 9.73s\n",
      "955:\tlearn: 136.7413789\ttotal: 3m 26s\tremaining: 9.51s\n",
      "956:\tlearn: 136.7183197\ttotal: 3m 26s\tremaining: 9.29s\n",
      "957:\tlearn: 136.7058262\ttotal: 3m 27s\tremaining: 9.08s\n",
      "958:\tlearn: 136.6927378\ttotal: 3m 27s\tremaining: 8.86s\n",
      "959:\tlearn: 136.6811356\ttotal: 3m 27s\tremaining: 8.65s\n",
      "960:\tlearn: 136.6680886\ttotal: 3m 27s\tremaining: 8.43s\n",
      "961:\tlearn: 136.6439652\ttotal: 3m 27s\tremaining: 8.21s\n",
      "962:\tlearn: 136.6325979\ttotal: 3m 28s\tremaining: 8s\n",
      "963:\tlearn: 136.6202065\ttotal: 3m 28s\tremaining: 7.78s\n",
      "964:\tlearn: 136.5918094\ttotal: 3m 28s\tremaining: 7.57s\n",
      "965:\tlearn: 136.5716943\ttotal: 3m 28s\tremaining: 7.35s\n",
      "966:\tlearn: 136.5596180\ttotal: 3m 29s\tremaining: 7.13s\n",
      "967:\tlearn: 136.5466423\ttotal: 3m 29s\tremaining: 6.92s\n",
      "968:\tlearn: 136.5336894\ttotal: 3m 29s\tremaining: 6.7s\n",
      "969:\tlearn: 136.5201646\ttotal: 3m 29s\tremaining: 6.49s\n",
      "970:\tlearn: 136.5083471\ttotal: 3m 29s\tremaining: 6.27s\n",
      "971:\tlearn: 136.4599014\ttotal: 3m 30s\tremaining: 6.05s\n",
      "972:\tlearn: 136.4314849\ttotal: 3m 30s\tremaining: 5.84s\n",
      "973:\tlearn: 136.4147285\ttotal: 3m 30s\tremaining: 5.62s\n",
      "974:\tlearn: 136.3941299\ttotal: 3m 30s\tremaining: 5.4s\n",
      "975:\tlearn: 136.3677099\ttotal: 3m 31s\tremaining: 5.19s\n",
      "976:\tlearn: 136.3553221\ttotal: 3m 31s\tremaining: 4.97s\n",
      "977:\tlearn: 136.3430790\ttotal: 3m 31s\tremaining: 4.76s\n",
      "978:\tlearn: 136.3301848\ttotal: 3m 31s\tremaining: 4.54s\n",
      "979:\tlearn: 136.3178796\ttotal: 3m 31s\tremaining: 4.32s\n",
      "980:\tlearn: 136.3056654\ttotal: 3m 32s\tremaining: 4.11s\n",
      "981:\tlearn: 136.2928189\ttotal: 3m 32s\tremaining: 3.89s\n",
      "982:\tlearn: 136.2813336\ttotal: 3m 32s\tremaining: 3.67s\n",
      "983:\tlearn: 136.2562288\ttotal: 3m 32s\tremaining: 3.46s\n",
      "984:\tlearn: 136.2169385\ttotal: 3m 32s\tremaining: 3.24s\n",
      "985:\tlearn: 136.2047461\ttotal: 3m 33s\tremaining: 3.03s\n",
      "986:\tlearn: 136.1919570\ttotal: 3m 33s\tremaining: 2.81s\n",
      "987:\tlearn: 136.1528659\ttotal: 3m 33s\tremaining: 2.6s\n",
      "988:\tlearn: 136.1395638\ttotal: 3m 34s\tremaining: 2.38s\n",
      "989:\tlearn: 136.1144989\ttotal: 3m 34s\tremaining: 2.16s\n",
      "990:\tlearn: 136.1017342\ttotal: 3m 34s\tremaining: 1.95s\n",
      "991:\tlearn: 136.0660572\ttotal: 3m 34s\tremaining: 1.73s\n",
      "992:\tlearn: 136.0538190\ttotal: 3m 34s\tremaining: 1.51s\n",
      "993:\tlearn: 136.0281314\ttotal: 3m 35s\tremaining: 1.3s\n",
      "994:\tlearn: 136.0153876\ttotal: 3m 35s\tremaining: 1.08s\n",
      "995:\tlearn: 135.9951422\ttotal: 3m 35s\tremaining: 866ms\n",
      "996:\tlearn: 135.9827994\ttotal: 3m 35s\tremaining: 649ms\n",
      "997:\tlearn: 135.9704220\ttotal: 3m 36s\tremaining: 433ms\n",
      "998:\tlearn: 135.9455953\ttotal: 3m 36s\tremaining: 216ms\n",
      "999:\tlearn: 135.9323742\ttotal: 3m 36s\tremaining: 0us\n"
     ]
    }
   ],
   "source": [
    "model_cat = catboost.fit(X_train, y_train)"
   ]
  },
  {
   "cell_type": "code",
   "execution_count": 45,
   "metadata": {
    "execution": {
     "iopub.execute_input": "2021-04-02T12:25:39.760676Z",
     "iopub.status.busy": "2021-04-02T12:25:39.759233Z",
     "iopub.status.idle": "2021-04-02T12:25:39.792745Z",
     "shell.execute_reply": "2021-04-02T12:25:39.793515Z"
    },
    "papermill": {
     "duration": 13.266749,
     "end_time": "2021-04-02T12:25:39.793705",
     "exception": false,
     "start_time": "2021-04-02T12:25:26.526956",
     "status": "completed"
    },
    "tags": []
   },
   "outputs": [
    {
     "data": {
      "text/plain": [
       "array([75.81991886, 66.28880459, 74.14672607, ..., 71.41874974,\n",
       "       66.22249463, 73.52383581])"
      ]
     },
     "execution_count": 45,
     "metadata": {},
     "output_type": "execute_result"
    }
   ],
   "source": [
    "test_predict = model_cat.predict(X_test)\n",
    "test_predict"
   ]
  },
  {
   "cell_type": "code",
   "execution_count": 46,
   "metadata": {
    "execution": {
     "iopub.execute_input": "2021-04-02T12:25:40.514201Z",
     "iopub.status.busy": "2021-04-02T12:25:40.499620Z",
     "iopub.status.idle": "2021-04-02T12:25:40.676555Z",
     "shell.execute_reply": "2021-04-02T12:25:40.675885Z"
    },
    "papermill": {
     "duration": 0.532731,
     "end_time": "2021-04-02T12:25:40.676712",
     "exception": false,
     "start_time": "2021-04-02T12:25:40.143981",
     "status": "completed"
    },
    "tags": []
   },
   "outputs": [
    {
     "data": {
      "text/plain": [
       "[<matplotlib.lines.Line2D at 0x7f5c69276f90>]"
      ]
     },
     "execution_count": 46,
     "metadata": {},
     "output_type": "execute_result"
    },
    {
     "data": {
      "image/png": "[encoded data removed]",
      "text/plain": [
       "<Figure size 432x288 with 1 Axes>"
      ]
     },
     "metadata": {
      "needs_background": "light"
     },
     "output_type": "display_data"
    }
   ],
   "source": [
    "pred = test_predict\n",
    "ans = y_test\n",
    "plt.scatter(test_predict, y_test)\n",
    "plt.plot([test_predict.min(), test_predict.max()], [y_test.min(), y_test.max()], c='r')"
   ]
  },
  {
   "cell_type": "code",
   "execution_count": 47,
   "metadata": {
    "execution": {
     "iopub.execute_input": "2021-04-02T12:25:41.502927Z",
     "iopub.status.busy": "2021-04-02T12:25:41.502127Z",
     "iopub.status.idle": "2021-04-02T12:25:41.505251Z",
     "shell.execute_reply": "2021-04-02T12:25:41.504665Z"
    },
    "papermill": {
     "duration": 0.448825,
     "end_time": "2021-04-02T12:25:41.505409",
     "exception": false,
     "start_time": "2021-04-02T12:25:41.056584",
     "status": "completed"
    },
    "tags": []
   },
   "outputs": [],
   "source": [
    "# from sklearn.model_selection import cross_val_score\n",
    "# result_crossval = cross_val_score(catboost, X, y)\n",
    "# print(result_crossval)"
   ]
  },
  {
   "cell_type": "code",
   "execution_count": 48,
   "metadata": {
    "execution": {
     "iopub.execute_input": "2021-04-02T12:25:42.212677Z",
     "iopub.status.busy": "2021-04-02T12:25:42.211790Z",
     "iopub.status.idle": "2021-04-02T12:25:42.214518Z",
     "shell.execute_reply": "2021-04-02T12:25:42.214000Z"
    },
    "papermill": {
     "duration": 0.358106,
     "end_time": "2021-04-02T12:25:42.214663",
     "exception": false,
     "start_time": "2021-04-02T12:25:41.856557",
     "status": "completed"
    },
    "tags": []
   },
   "outputs": [],
   "source": [
    "from sklearn.metrics import mean_squared_error, r2_score"
   ]
  },
  {
   "cell_type": "code",
   "execution_count": 49,
   "metadata": {
    "execution": {
     "iopub.execute_input": "2021-04-02T12:25:42.921815Z",
     "iopub.status.busy": "2021-04-02T12:25:42.920979Z",
     "iopub.status.idle": "2021-04-02T12:25:42.925645Z",
     "shell.execute_reply": "2021-04-02T12:25:42.925032Z"
    },
    "papermill": {
     "duration": 0.359296,
     "end_time": "2021-04-02T12:25:42.925802",
     "exception": false,
     "start_time": "2021-04-02T12:25:42.566506",
     "status": "completed"
    },
    "tags": []
   },
   "outputs": [
    {
     "data": {
      "text/plain": [
       "30060.89733195347"
      ]
     },
     "execution_count": 49,
     "metadata": {},
     "output_type": "execute_result"
    }
   ],
   "source": [
    "mean_squared_error(y_test, test_predict)"
   ]
  },
  {
   "cell_type": "code",
   "execution_count": 50,
   "metadata": {
    "execution": {
     "iopub.execute_input": "2021-04-02T12:25:43.636542Z",
     "iopub.status.busy": "2021-04-02T12:25:43.635379Z",
     "iopub.status.idle": "2021-04-02T12:25:43.640150Z",
     "shell.execute_reply": "2021-04-02T12:25:43.639498Z"
    },
    "papermill": {
     "duration": 0.362379,
     "end_time": "2021-04-02T12:25:43.640299",
     "exception": false,
     "start_time": "2021-04-02T12:25:43.277920",
     "status": "completed"
    },
    "tags": []
   },
   "outputs": [
    {
     "data": {
      "text/plain": [
       "-0.007472220901222126"
      ]
     },
     "execution_count": 50,
     "metadata": {},
     "output_type": "execute_result"
    }
   ],
   "source": [
    "r2_score(y_test, test_predict)"
   ]
  },
  {
   "cell_type": "code",
   "execution_count": null,
   "metadata": {
    "papermill": {
     "duration": 0.3555,
     "end_time": "2021-04-02T12:25:44.345871",
     "exception": false,
     "start_time": "2021-04-02T12:25:43.990371",
     "status": "completed"
    },
    "tags": []
   },
   "outputs": [],
   "source": []
  }
 ],
 "metadata": {
  "kernelspec": {
   "display_name": "Python 3",
   "language": "python",
   "name": "python3"
  },
  "language_info": {
   "codemirror_mode": {
    "name": "ipython",
    "version": 3
   },
   "file_extension": ".py",
   "mimetype": "text/x-python",
   "name": "python",
   "nbconvert_exporter": "python",
   "pygments_lexer": "ipython3",
   "version": "3.7.9"
  },
  "papermill": {
   "default_parameters": {},
   "duration": 575.665516,
   "end_time": "2021-04-02T12:25:45.810146",
   "environment_variables": {},
   "exception": null,
   "input_path": "__notebook__.ipynb",
   "output_path": "__notebook__.ipynb",
   "parameters": {},
   "start_time": "2021-04-02T12:16:10.144630",
   "version": "2.2.2"
  }
 },
 "nbformat": 4,
 "nbformat_minor": 4
}
